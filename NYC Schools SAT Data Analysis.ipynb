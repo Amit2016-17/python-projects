{
 "cells": [
  {
   "cell_type": "markdown",
   "metadata": {},
   "source": [
    "# Analysing how demographics affects school perfomance in NYC\n",
    "\n",
    "The SAT, or Scholastic Aptitude Test, is a test that high school seniors in the U.S. take every year. The SAT has three sections, each of which is worth a maximum of 800 points. Colleges use the SAT to determine which students to admit. High average SAT scores are usually indicative of a good school.\n",
    "\n",
    "New York City has published data on student SAT scores by high school, along with additional demographic data sets. New York City has a significant immigrant population and is very diverse, so comparing demographic factors such as race, income, and gender with SAT scores will help us identify which demographic groups tend to do better on the SAT."
   ]
  },
  {
   "cell_type": "markdown",
   "metadata": {},
   "source": [
    "### Imports and reading in data"
   ]
  },
  {
   "cell_type": "code",
   "execution_count": 1,
   "metadata": {},
   "outputs": [],
   "source": [
    "# Data manipulation\n",
    "import pandas as pd\n",
    "import numpy as np\n",
    "import re\n",
    "\n",
    "# Options for pandas\n",
    "pd.options.display.max_columns = 50\n",
    "pd.options.display.max_rows = 60\n",
    "\n",
    "# Plotting\n",
    "import matplotlib.pyplot as plt\n",
    "import matplotlib.style as style\n",
    "style.use('fivethirtyeight')\n",
    "\n",
    "# Display all cell outputs\n",
    "from IPython.core.interactiveshell import InteractiveShell\n",
    "InteractiveShell.ast_node_interactivity = 'all'\n",
    "\n",
    "data_files = [\n",
    "    \"ap_2010.csv\",\n",
    "    \"class_size.csv\",\n",
    "    \"demographics.csv\",\n",
    "    \"graduation.csv\",\n",
    "    \"hs_directory.csv\",\n",
    "    \"sat_results.csv\"\n",
    "]\n",
    "\n",
    "data = {}\n",
    "\n",
    "for f in data_files:\n",
    "    d = pd.read_csv(\"schools/{0}\".format(f))\n",
    "    data[f.replace(\".csv\", \"\")] = d"
   ]
  },
  {
   "cell_type": "markdown",
   "metadata": {},
   "source": [
    "# Read in the surveys"
   ]
  },
  {
   "cell_type": "code",
   "execution_count": 2,
   "metadata": {},
   "outputs": [
    {
     "name": "stderr",
     "output_type": "stream",
     "text": [
      "C:\\Users\\Andrew\\Anaconda3\\envs\\dataquest\\lib\\site-packages\\ipykernel_launcher.py:3: FutureWarning: Sorting because non-concatenation axis is not aligned. A future version\n",
      "of pandas will change to not sort by default.\n",
      "\n",
      "To accept the future behavior, pass 'sort=False'.\n",
      "\n",
      "To retain the current behavior and silence the warning, pass 'sort=True'.\n",
      "\n",
      "  This is separate from the ipykernel package so we can avoid doing imports until\n"
     ]
    }
   ],
   "source": [
    "all_survey = pd.read_csv(\"schools/survey_all.txt\", delimiter=\"\\t\", encoding='windows-1252')\n",
    "d75_survey = pd.read_csv(\"schools/survey_d75.txt\", delimiter=\"\\t\", encoding='windows-1252')\n",
    "survey = pd.concat([all_survey, d75_survey], axis=0)\n",
    "\n",
    "survey[\"DBN\"] = survey[\"dbn\"]\n",
    "\n",
    "survey_fields = [\n",
    "    \"DBN\", \n",
    "    \"rr_s\", \n",
    "    \"rr_t\", \n",
    "    \"rr_p\", \n",
    "    \"N_s\", \n",
    "    \"N_t\", \n",
    "    \"N_p\", \n",
    "    \"saf_p_11\", \n",
    "    \"com_p_11\", \n",
    "    \"eng_p_11\", \n",
    "    \"aca_p_11\", \n",
    "    \"saf_t_11\", \n",
    "    \"com_t_11\", \n",
    "    \"eng_t_11\", \n",
    "    \"aca_t_11\", \n",
    "    \"saf_s_11\", \n",
    "    \"com_s_11\", \n",
    "    \"eng_s_11\", \n",
    "    \"aca_s_11\", \n",
    "    \"saf_tot_11\", \n",
    "    \"com_tot_11\", \n",
    "    \"eng_tot_11\", \n",
    "    \"aca_tot_11\",\n",
    "]\n",
    "survey = survey.loc[:,survey_fields]\n",
    "data[\"survey\"] = survey"
   ]
  },
  {
   "cell_type": "markdown",
   "metadata": {},
   "source": [
    "# Add DBN columns"
   ]
  },
  {
   "cell_type": "code",
   "execution_count": 3,
   "metadata": {},
   "outputs": [],
   "source": [
    "data[\"hs_directory\"][\"DBN\"] = data[\"hs_directory\"][\"dbn\"]\n",
    "\n",
    "def pad_csd(num):\n",
    "    string_representation = str(num)\n",
    "    if len(string_representation) > 1:\n",
    "        return string_representation\n",
    "    else:\n",
    "        return \"0\" + string_representation\n",
    "    \n",
    "data[\"class_size\"][\"padded_csd\"] = data[\"class_size\"][\"CSD\"].apply(pad_csd)\n",
    "data[\"class_size\"][\"DBN\"] = data[\"class_size\"][\"padded_csd\"] + data[\"class_size\"][\"SCHOOL CODE\"]"
   ]
  },
  {
   "cell_type": "markdown",
   "metadata": {},
   "source": [
    "# Convert columns to numeric"
   ]
  },
  {
   "cell_type": "code",
   "execution_count": 4,
   "metadata": {},
   "outputs": [],
   "source": [
    "cols = ['SAT Math Avg. Score', 'SAT Critical Reading Avg. Score', 'SAT Writing Avg. Score']\n",
    "for c in cols:\n",
    "    data[\"sat_results\"][c] = pd.to_numeric(data[\"sat_results\"][c], errors=\"coerce\")\n",
    "\n",
    "data['sat_results']['sat_score'] = data['sat_results'][cols[0]] + data['sat_results'][cols[1]] + data['sat_results'][cols[2]]\n",
    "\n",
    "def find_lat(loc):\n",
    "    coords = re.findall(\"\\(.+, .+\\)\", loc)\n",
    "    lat = coords[0].split(\",\")[0].replace(\"(\", \"\")\n",
    "    return lat\n",
    "\n",
    "def find_lon(loc):\n",
    "    coords = re.findall(\"\\(.+, .+\\)\", loc)\n",
    "    lon = coords[0].split(\",\")[1].replace(\")\", \"\").strip()\n",
    "    return lon\n",
    "\n",
    "data[\"hs_directory\"][\"lat\"] = data[\"hs_directory\"][\"Location 1\"].apply(find_lat)\n",
    "data[\"hs_directory\"][\"lon\"] = data[\"hs_directory\"][\"Location 1\"].apply(find_lon)\n",
    "\n",
    "data[\"hs_directory\"][\"lat\"] = pd.to_numeric(data[\"hs_directory\"][\"lat\"], errors=\"coerce\")\n",
    "data[\"hs_directory\"][\"lon\"] = pd.to_numeric(data[\"hs_directory\"][\"lon\"], errors=\"coerce\")"
   ]
  },
  {
   "cell_type": "markdown",
   "metadata": {},
   "source": [
    "# Condense datasets"
   ]
  },
  {
   "cell_type": "code",
   "execution_count": 5,
   "metadata": {},
   "outputs": [],
   "source": [
    "class_size = data[\"class_size\"]\n",
    "class_size = class_size[class_size[\"GRADE \"] == \"09-12\"]\n",
    "class_size = class_size[class_size[\"PROGRAM TYPE\"] == \"GEN ED\"]\n",
    "\n",
    "class_size = class_size.groupby(\"DBN\").agg(np.mean)\n",
    "class_size.reset_index(inplace=True)\n",
    "data[\"class_size\"] = class_size\n",
    "\n",
    "data[\"demographics\"] = data[\"demographics\"][data[\"demographics\"][\"schoolyear\"] == 20112012]\n",
    "\n",
    "data[\"graduation\"] = data[\"graduation\"][data[\"graduation\"][\"Cohort\"] == \"2006\"]\n",
    "data[\"graduation\"] = data[\"graduation\"][data[\"graduation\"][\"Demographic\"] == \"Total Cohort\"]"
   ]
  },
  {
   "cell_type": "markdown",
   "metadata": {},
   "source": [
    "# Convert AP scores to numeric"
   ]
  },
  {
   "cell_type": "code",
   "execution_count": 6,
   "metadata": {},
   "outputs": [],
   "source": [
    "cols = ['AP Test Takers ', 'Total Exams Taken', 'Number of Exams with scores 3 4 or 5']\n",
    "\n",
    "for col in cols:\n",
    "    data[\"ap_2010\"][col] = pd.to_numeric(data[\"ap_2010\"][col], errors=\"coerce\")"
   ]
  },
  {
   "cell_type": "markdown",
   "metadata": {},
   "source": [
    "# Combine the datasets"
   ]
  },
  {
   "cell_type": "code",
   "execution_count": 7,
   "metadata": {},
   "outputs": [],
   "source": [
    "combined = data[\"sat_results\"]\n",
    "\n",
    "combined = combined.merge(data[\"ap_2010\"], on=\"DBN\", how=\"left\")\n",
    "combined = combined.merge(data[\"graduation\"], on=\"DBN\", how=\"left\")\n",
    "\n",
    "to_merge = [\"class_size\", \"demographics\", \"survey\", \"hs_directory\"]\n",
    "\n",
    "for m in to_merge:\n",
    "    combined = combined.merge(data[m], on=\"DBN\", how=\"inner\")\n",
    "\n",
    "combined = combined.fillna(combined.mean())\n",
    "combined = combined.fillna(0)"
   ]
  },
  {
   "cell_type": "markdown",
   "metadata": {},
   "source": [
    "# Add a school district column for mapping"
   ]
  },
  {
   "cell_type": "code",
   "execution_count": 8,
   "metadata": {},
   "outputs": [],
   "source": [
    "def get_first_two_chars(dbn):\n",
    "    return dbn[0:2]\n",
    "\n",
    "combined[\"school_dist\"] = combined[\"DBN\"].apply(get_first_two_chars)"
   ]
  },
  {
   "cell_type": "markdown",
   "metadata": {},
   "source": [
    "# Find correlations"
   ]
  },
  {
   "cell_type": "code",
   "execution_count": 9,
   "metadata": {},
   "outputs": [
    {
     "name": "stdout",
     "output_type": "stream",
     "text": [
      "SAT Critical Reading Avg. Score    0.986820\n",
      "SAT Math Avg. Score                0.972643\n",
      "SAT Writing Avg. Score             0.987771\n",
      "sat_score                          1.000000\n",
      "AP Test Takers                     0.523140\n",
      "                                     ...   \n",
      "priority08                              NaN\n",
      "priority09                              NaN\n",
      "priority10                              NaN\n",
      "lat                               -0.121029\n",
      "lon                               -0.132222\n",
      "Name: sat_score, Length: 67, dtype: float64\n"
     ]
    }
   ],
   "source": [
    "correlations = combined.corr()\n",
    "correlations = correlations[\"sat_score\"]\n",
    "print(correlations)"
   ]
  },
  {
   "cell_type": "markdown",
   "metadata": {},
   "source": [
    "# Plotting survey correlations"
   ]
  },
  {
   "cell_type": "code",
   "execution_count": 10,
   "metadata": {},
   "outputs": [],
   "source": [
    "# Remove DBN since it's a unique identifier, not a useful numerical value for correlation.\n",
    "survey_fields.remove(\"DBN\")"
   ]
  },
  {
   "cell_type": "markdown",
   "metadata": {},
   "source": [
    "Several fields in the combined dataframe have come from a survey of parents, teachers and students.  These fields are those contained in the survey_fields list.  Let's plot a bar chart to see how these variables correlate with sat_score."
   ]
  },
  {
   "cell_type": "code",
   "execution_count": 11,
   "metadata": {},
   "outputs": [
    {
     "data": {
      "text/plain": [
       "[<matplotlib.axis.XTick at 0x21d9e4a70c8>,\n",
       " <matplotlib.axis.XTick at 0x21d9e4a8c08>,\n",
       " <matplotlib.axis.XTick at 0x21d9e4a8888>,\n",
       " <matplotlib.axis.XTick at 0x21d9e49e048>,\n",
       " <matplotlib.axis.XTick at 0x21d9e49d2c8>,\n",
       " <matplotlib.axis.XTick at 0x21d9e49b848>,\n",
       " <matplotlib.axis.XTick at 0x21d9e4997c8>,\n",
       " <matplotlib.axis.XTick at 0x21d9e497e48>,\n",
       " <matplotlib.axis.XTick at 0x21d9e494108>,\n",
       " <matplotlib.axis.XTick at 0x21d9e492848>,\n",
       " <matplotlib.axis.XTick at 0x21d9e492588>,\n",
       " <matplotlib.axis.XTick at 0x21d9e492748>,\n",
       " <matplotlib.axis.XTick at 0x21d9e49d288>,\n",
       " <matplotlib.axis.XTick at 0x21d9e48ebc8>,\n",
       " <matplotlib.axis.XTick at 0x21d9e48cb48>,\n",
       " <matplotlib.axis.XTick at 0x21d9e48b908>,\n",
       " <matplotlib.axis.XTick at 0x21d9e48ae48>,\n",
       " <matplotlib.axis.XTick at 0x21d9e488848>,\n",
       " <matplotlib.axis.XTick at 0x21d9e487f08>,\n",
       " <matplotlib.axis.XTick at 0x21d9e4862c8>,\n",
       " <matplotlib.axis.XTick at 0x21d9e485608>,\n",
       " <matplotlib.axis.XTick at 0x21d9e486dc8>]"
      ]
     },
     "execution_count": 11,
     "metadata": {},
     "output_type": "execute_result"
    },
    {
     "data": {
      "text/plain": [
       "<BarContainer object of 22 artists>"
      ]
     },
     "execution_count": 11,
     "metadata": {},
     "output_type": "execute_result"
    },
    {
     "data": {
      "text/plain": [
       "[Text(0, 0, 'rr_s'),\n",
       " Text(0, 0, 'rr_t'),\n",
       " Text(0, 0, 'rr_p'),\n",
       " Text(0, 0, 'N_s'),\n",
       " Text(0, 0, 'N_t'),\n",
       " Text(0, 0, 'N_p'),\n",
       " Text(0, 0, 'saf_p_11'),\n",
       " Text(0, 0, 'com_p_11'),\n",
       " Text(0, 0, 'eng_p_11'),\n",
       " Text(0, 0, 'aca_p_11'),\n",
       " Text(0, 0, 'saf_t_11'),\n",
       " Text(0, 0, 'com_t_11'),\n",
       " Text(0, 0, 'eng_t_11'),\n",
       " Text(0, 0, 'aca_t_11'),\n",
       " Text(0, 0, 'saf_s_11'),\n",
       " Text(0, 0, 'com_s_11'),\n",
       " Text(0, 0, 'eng_s_11'),\n",
       " Text(0, 0, 'aca_s_11'),\n",
       " Text(0, 0, 'saf_tot_11'),\n",
       " Text(0, 0, 'com_tot_11'),\n",
       " Text(0, 0, 'eng_tot_11'),\n",
       " Text(0, 0, 'aca_tot_11')]"
      ]
     },
     "execution_count": 11,
     "metadata": {},
     "output_type": "execute_result"
    },
    {
     "data": {
      "text/plain": [
       "Text(-2, 0.5, 'Correlations between survey\\nresponse variables and SAT scores')"
      ]
     },
     "execution_count": 11,
     "metadata": {},
     "output_type": "execute_result"
    },
    {
     "data": {
      "image/png": "[encoded data removed]",
      "text/plain": [
       "<Figure size 432x288 with 1 Axes>"
      ]
     },
     "metadata": {},
     "output_type": "display_data"
    }
   ],
   "source": [
    "fig, ax = plt.subplots()\n",
    "\n",
    "ax.set_xticks(np.arange(22)+0.75)\n",
    "\n",
    "ax.bar(np.arange(22)+0.75, correlations[survey_fields])\n",
    "\n",
    "ax.set_xticklabels(survey_fields, rotation=90)\n",
    "\n",
    "ax.text(x = -2, y = 0.5, s = \"Correlations between survey\\nresponse variables and SAT scores\",\n",
    "               fontsize = 19, weight = 'bold', alpha = .75)\n"
   ]
  },
  {
   "cell_type": "markdown",
   "metadata": {},
   "source": [
    "We can see the strongest positive correlations with SAT scores from N_s, N_p, saf_t_11, saf_s_11, aca_s_11 and saf_tot_11, which all have correlation coefficients over 0.3.  We should also remark that none of these correlations are particularly strong and we would have to perform hypothesis tests before we could say that we have evidence to suggest any positive correlations actually exist."
   ]
  },
  {
   "cell_type": "markdown",
   "metadata": {},
   "source": [
    "Consulting our data dictionary:\n",
    "\n",
    "- N_s:  Number of student respondents\n",
    "- N_p:  Number of parent respondents\n",
    "- saf_t_11:  Safety and Respect score based on teacher responses\n",
    "- saf_s_11:  Safety and Respect score based on student responses\n",
    "- aca_s_11:  Academic expectations score based on student responses\n",
    "- saf_tot_11:  Safety and Respect total score"
   ]
  },
  {
   "cell_type": "markdown",
   "metadata": {},
   "source": [
    "If we assume that each school has a similar response rate to the survey, then a higher number of responses from students and parents should indicate a larger school.  If this assumption is correct, then it could be argued that the data shows that larger schools tend to do better in terms of SAT scores - since there are positive correlations between SAT scores and N_s and N_p.\n",
    "\n",
    "The data would also suggest that schools that score higher in Safety and Respect (whatever that refers to) tend to score better SAT scores as well.  There is also an indication that schools whose students rated them highly on Academic Expectations also had higher SAT scores.\n",
    "\n",
    "However, it is worth reiterating - all the correlations described above are weak and would need further investigation to ascertain whether they are statistically significantlly different from zero at a reasonable level."
   ]
  },
  {
   "cell_type": "markdown",
   "metadata": {},
   "source": [
    "# Investigation of safety level correlation"
   ]
  },
  {
   "cell_type": "markdown",
   "metadata": {},
   "source": [
    "Let's investigate the correlation between saf_s_11 (how students rate the safety level of the school) and sat_score in more detail. "
   ]
  },
  {
   "cell_type": "code",
   "execution_count": 12,
   "metadata": {},
   "outputs": [
    {
     "data": {
      "text/plain": [
       "<matplotlib.collections.PathCollection at 0x21d9e442bc8>"
      ]
     },
     "execution_count": 12,
     "metadata": {},
     "output_type": "execute_result"
    },
    {
     "data": {
      "text/plain": [
       "Text(0.5, 0, 'Safety score')"
      ]
     },
     "execution_count": 12,
     "metadata": {},
     "output_type": "execute_result"
    },
    {
     "data": {
      "text/plain": [
       "Text(0, 0.5, 'Total average SAT score')"
      ]
     },
     "execution_count": 12,
     "metadata": {},
     "output_type": "execute_result"
    },
    {
     "data": {
      "text/plain": [
       "Text(4.3, 2250, 'Student-rated safety score vs SAT\\nscores for 363 NYC schools')"
      ]
     },
     "execution_count": 12,
     "metadata": {},
     "output_type": "execute_result"
    },
    {
     "data": {
      "text/plain": [
       "Text(4, 530, '___________________________________________________________________')"
      ]
     },
     "execution_count": 12,
     "metadata": {},
     "output_type": "execute_result"
    },
    {
     "data": {
      "text/plain": [
       "Text(4, 430, '© ANDREW HETHERINGTON   Source: National Center for Education Statistics   ')"
      ]
     },
     "execution_count": 12,
     "metadata": {},
     "output_type": "execute_result"
    },
    {
     "data": {
      "image/png": "[encoded data removed]",
      "text/plain": [
       "<Figure size 432x288 with 1 Axes>"
      ]
     },
     "metadata": {},
     "output_type": "display_data"
    }
   ],
   "source": [
    "fig, ax = plt.subplots()\n",
    "\n",
    "ax.scatter(combined[\"saf_s_11\"], combined[\"sat_score\"])\n",
    "\n",
    "ax.set_xlabel(\"Safety score\", labelpad=10)\n",
    "\n",
    "ax.set_ylabel(\"Total average SAT score\", labelpad=10)\n",
    "\n",
    "ax.text(x = 4.3, y = 2250, s = \"Student-rated safety score vs SAT\\nscores for 363 NYC schools\",\n",
    "               fontsize = 21, weight = 'bold', alpha = .75)\n",
    "\n",
    "ax.text(x = 4, y = 530,\n",
    "    s = '___________________________________________________________________',\n",
    "    color = 'grey', alpha = .7)\n",
    "\n",
    "ax.text(x = 4, y = 430,\n",
    "    s = '© ANDREW HETHERINGTON   Source: National Center for Education Statistics   ',\n",
    "    fontsize = 12, color = 'grey', alpha = .7)"
   ]
  },
  {
   "cell_type": "markdown",
   "metadata": {},
   "source": [
    "Now, let's map out the safety scores by district.  Let's take the average safety scores by district and then plot them out on a map of New York City."
   ]
  },
  {
   "cell_type": "code",
   "execution_count": 13,
   "metadata": {},
   "outputs": [
    {
     "name": "stderr",
     "output_type": "stream",
     "text": [
      "C:\\Users\\Andrew\\Anaconda3\\envs\\dataquest\\lib\\site-packages\\ipykernel_launcher.py:18: MatplotlibDeprecationWarning: \n",
      "The dedent function was deprecated in Matplotlib 3.1 and will be removed in 3.3. Use inspect.cleandoc instead.\n"
     ]
    },
    {
     "data": {
      "text/plain": [
       "<matplotlib.collections.PathCollection at 0x21d9e4432c8>"
      ]
     },
     "execution_count": 13,
     "metadata": {},
     "output_type": "execute_result"
    },
    {
     "name": "stdout",
     "output_type": "stream",
     "text": [
      "http://server.arcgisonline.com/ArcGIS/rest/services/World_Topo_Map/MapServer/export?bbox=913122.7552667909,120102.74479508692,1067090.3211193548,272872.4944441424&bboxSR=2263&imageSR=2263&size=1500,1488&dpi=96&format=png32&transparent=true&f=image\n"
     ]
    },
    {
     "data": {
      "text/plain": [
       "<matplotlib.image.AxesImage at 0x21d9ea50e08>"
      ]
     },
     "execution_count": 13,
     "metadata": {},
     "output_type": "execute_result"
    },
    {
     "data": {
      "text/plain": [
       "Text(0, -0.02, '____________________________')"
      ]
     },
     "execution_count": 13,
     "metadata": {},
     "output_type": "execute_result"
    },
    {
     "data": {
      "text/plain": [
       "Text(0, -0.14, '© ANDREW HETHERINGTON\\nSource: National Center for Education Statistics   ')"
      ]
     },
     "execution_count": 13,
     "metadata": {},
     "output_type": "execute_result"
    },
    {
     "data": {
      "image/png": "[encoded data removed]",
      "text/plain": [
       "<Figure size 432x288 with 1 Axes>"
      ]
     },
     "metadata": {},
     "output_type": "display_data"
    }
   ],
   "source": [
    "districts = combined.groupby(\"school_dist\").agg(np.mean)\n",
    "\n",
    "import os\n",
    "os.environ['PROJ_LIB'] = \"C:/Users/Andrew/Anaconda3/envs/dataquest/Lib/site-packages/mpl_toolkits/basemap/data\"\n",
    "from mpl_toolkits.basemap import Basemap\n",
    "\n",
    "import matplotlib.patheffects as path_effects\n",
    "\n",
    "fig, ax = plt.subplots()\n",
    "\n",
    "m = Basemap(\n",
    "    projection='merc', \n",
    "    llcrnrlat=40.496044, \n",
    "    urcrnrlat=40.915256, \n",
    "    llcrnrlon=-74.255735, \n",
    "    urcrnrlon=-73.700272,\n",
    "    resolution='i',\n",
    "    epsg=2263\n",
    ")\n",
    "\n",
    "# m.drawmapboundary(fill_color='#85A6D9')\n",
    "# m.drawcoastlines(color='#6D5F47', linewidth=.4)\n",
    "# m.drawrivers(color='#6D5F47', linewidth=.4)\n",
    "\n",
    "longitudes = districts[\"lon\"].tolist()\n",
    "latitudes = districts[\"lat\"].tolist()\n",
    "\n",
    "m.scatter(longitudes, latitudes, s=20, zorder=2, latlon=True, c= districts[\"saf_s_11\"], cmap=\"Greens\")\n",
    "\n",
    "m.arcgisimage(service='World_Topo_Map', xpixels = 1500, verbose= True)\n",
    "\n",
    "# Plot safety scores\n",
    "\n",
    "def convert_to_plot_frac(x, y):\n",
    "    return (x - -74.255735)/(-73.700272--74.255735), (y - 40.496044)/(40.915256-40.496044)\n",
    "\n",
    "for d in districts.iterrows():\n",
    "    text = ax.annotate(str(round(d[1][49],1)), xy=(convert_to_plot_frac(d[1][66], d[1][65])), xytext=(convert_to_plot_frac(d[1][66], d[1][65])),\n",
    "                xycoords=\"axes fraction\", textcoords=\"axes fraction\", size=4, c=\"white\")\n",
    "    text.set_path_effects([path_effects.Stroke(linewidth=1, foreground='black'),\n",
    "                       path_effects.Normal()])\n",
    "\n",
    "# text.set_path_effects([path_effects.Stroke(linewidth=3, foreground='black'),\n",
    "#                        path_effects.Normal()])\n",
    "    \n",
    "t1 = ax.text(x = 0, y = 1.04, s = \"Average student-rated safety\\nscores for 32 NYC districts\",\n",
    "               fontsize = 11, weight = 'bold', alpha = .75, transform=ax.transAxes, c=\"white\")\n",
    "\n",
    "t1.set_path_effects([path_effects.Stroke(linewidth=3, foreground='black'),\n",
    "                       path_effects.Normal()])\n",
    "\n",
    "ax.text(x = 0, y = -0.02,\n",
    "    s = '____________________________',\n",
    "    color = 'grey', alpha = .7, transform=ax.transAxes)\n",
    "\n",
    "ax.text(x = 0, y = -0.14,\n",
    "    s = '© ANDREW HETHERINGTON\\nSource: National Center for Education Statistics   ',\n",
    "    fontsize = 8, color = 'grey', alpha = .7, transform=ax.transAxes)\n",
    "\n",
    "plt.tight_layout()\n",
    "\n",
    "plt.savefig('test.png', dpi=500)\n",
    "\n",
    "plt.show()"
   ]
  },
  {
   "cell_type": "markdown",
   "metadata": {},
   "source": [
    "Now that we've mapped out safety scores by district, let's move on to something else.\n",
    "\n",
    "# Racial correlation with SAT scores\n",
    "\n",
    "Let's plot out the correlations between the following variables and sat_score, since these represent the demographic makeup of the various schools in our data:\n",
    "\n",
    "- white_per\n",
    "- asian_per\n",
    "- black_per\n",
    "- hispanic_per"
   ]
  },
  {
   "cell_type": "code",
   "execution_count": 14,
   "metadata": {},
   "outputs": [
    {
     "data": {
      "text/plain": [
       "white_per       0.620718\n",
       "asian_per       0.570730\n",
       "black_per      -0.284139\n",
       "hispanic_per   -0.396985\n",
       "Name: sat_score, dtype: float64"
      ]
     },
     "execution_count": 14,
     "metadata": {},
     "output_type": "execute_result"
    }
   ],
   "source": [
    "racial_fields = [\"white_per\", \"asian_per\", \"black_per\", \"hispanic_per\"]\n",
    "\n",
    "correlations[racial_fields]"
   ]
  },
  {
   "cell_type": "markdown",
   "metadata": {},
   "source": [
    "At first glance, it looks like there are potentially some positive correlations between SAT scores the percentage of students who are white and asian, and negative correlations between SAT scores and the percentage of students who are black and hispanic.  \n",
    "\n",
    "The correlation coefficients for the white and asian proportions seem to be relatively high (both around +0.6), while those for black and hispanic proportions are closer to zero (both smaller than -0.4, in the sense they are closer to zero).  \n",
    "\n",
    "However, we should remember that before we can come to any reasonable conclusions, we would need to perform further statistical analysis on these correlation coefficients in order to say with confidence that they are significantly different from zero (ie that there is a correlation).\n",
    "\n",
    "With this precaution in mind, let's plot a bar graph of these correlations."
   ]
  },
  {
   "cell_type": "code",
   "execution_count": 15,
   "metadata": {},
   "outputs": [
    {
     "data": {
      "text/plain": [
       "<BarContainer object of 4 artists>"
      ]
     },
     "execution_count": 15,
     "metadata": {},
     "output_type": "execute_result"
    },
    {
     "data": {
      "text/plain": [
       "Text(0.5, 0, 'Demographic group')"
      ]
     },
     "execution_count": 15,
     "metadata": {},
     "output_type": "execute_result"
    },
    {
     "data": {
      "text/plain": [
       "Text(0, 0.5, 'Correlation coefficient')"
      ]
     },
     "execution_count": 15,
     "metadata": {},
     "output_type": "execute_result"
    },
    {
     "data": {
      "text/plain": [
       "[<matplotlib.axis.XTick at 0x21d9ec82f48>,\n",
       " <matplotlib.axis.XTick at 0x21d9ed68d48>,\n",
       " <matplotlib.axis.XTick at 0x21d9eb92508>,\n",
       " <matplotlib.axis.XTick at 0x21d9eace988>]"
      ]
     },
     "execution_count": 15,
     "metadata": {},
     "output_type": "execute_result"
    },
    {
     "data": {
      "text/plain": [
       "[Text(0, 0, 'White'),\n",
       " Text(0, 0, 'Asian'),\n",
       " Text(0, 0, 'Black'),\n",
       " Text(0, 0, 'Hispanic')]"
      ]
     },
     "execution_count": 15,
     "metadata": {},
     "output_type": "execute_result"
    },
    {
     "data": {
      "text/plain": [
       "Text(-0.2, 0.75, 'How belonging to a particular race\\naffects your SAT performace')"
      ]
     },
     "execution_count": 15,
     "metadata": {},
     "output_type": "execute_result"
    },
    {
     "data": {
      "text/plain": [
       "Text(-0.6, -0.7, '___________________________________________________________________')"
      ]
     },
     "execution_count": 15,
     "metadata": {},
     "output_type": "execute_result"
    },
    {
     "data": {
      "text/plain": [
       "Text(-0.6, -0.8, '© ANDREW HETHERINGTON   Source: National Center for Education Statistics   ')"
      ]
     },
     "execution_count": 15,
     "metadata": {},
     "output_type": "execute_result"
    },
    {
     "data": {
      "text/plain": [
       "<matplotlib.lines.Line2D at 0x21d9ead0e48>"
      ]
     },
     "execution_count": 15,
     "metadata": {},
     "output_type": "execute_result"
    },
    {
     "data": {
      "image/png": "[encoded data removed]",
      "text/plain": [
       "<Figure size 432x288 with 1 Axes>"
      ]
     },
     "metadata": {},
     "output_type": "display_data"
    }
   ],
   "source": [
    "fig, ax = plt.subplots()\n",
    "\n",
    "ax.bar(np.arange(4) + 0.75, correlations[racial_fields])\n",
    "\n",
    "ax.set_xlabel(\"Demographic group\", labelpad=10)\n",
    "\n",
    "ax.set_ylabel(\"Correlation coefficient\", labelpad=10)\n",
    "\n",
    "ax.set_xticks(np.arange(4)+0.75)\n",
    "\n",
    "labels = [\"White\", \"Asian\", \"Black\", \"Hispanic\"]\n",
    "\n",
    "ax.set_xticklabels(labels)\n",
    "\n",
    "ax.text(x = -0.2, y = 0.75, s = \"How belonging to a particular race\\naffects your SAT performace\",\n",
    "               fontsize = 21, weight = 'bold', alpha = .75)\n",
    "\n",
    "ax.text(x = -0.6, y = -0.7,\n",
    "    s = '___________________________________________________________________',\n",
    "    color = 'grey', alpha = .7)\n",
    "\n",
    "ax.text(x = -0.6, y = -0.8,\n",
    "    s = '© ANDREW HETHERINGTON   Source: National Center for Education Statistics   ',\n",
    "    fontsize = 12, color = 'grey', alpha = .7)\n",
    "\n",
    "# ax.spines['top'].set_color('none')\n",
    "# ax.spines['right'].set_color('none')\n",
    "# ax.spines['left'].set_smart_bounds(True)\n",
    "# ax.spines['bottom'].set_smart_bounds(True)\n",
    "\n",
    "# Make the zero line more visible so it's easier to distinguish positive vs negative values\n",
    "plt.axhline(y=0, xmin=0, xmax=1, color=\"k\", linewidth=1)\n",
    "\n",
    "plt.show()"
   ]
  },
  {
   "cell_type": "markdown",
   "metadata": {},
   "source": [
    "You will notice that we've gone for a rather sensationalist title here, despite having not done any statistical analysis to back up our \"claim\".  This is sadly not an entirely uncommon practice in the real world.  Be wary of similarly heroic assertions when consuming media and apply a healthy dose of skeptiscism.\n",
    "\n",
    "Let's take a closer look at the relationship between hispanic_per and sat_score by creating a scatter graph."
   ]
  },
  {
   "cell_type": "code",
   "execution_count": 16,
   "metadata": {},
   "outputs": [
    {
     "data": {
      "text/plain": [
       "<matplotlib.collections.PathCollection at 0x21d9ea49d88>"
      ]
     },
     "execution_count": 16,
     "metadata": {},
     "output_type": "execute_result"
    },
    {
     "data": {
      "text/plain": [
       "Text(0.5, 0, '%')"
      ]
     },
     "execution_count": 16,
     "metadata": {},
     "output_type": "execute_result"
    },
    {
     "data": {
      "text/plain": [
       "Text(-10, 2250, 'Average SAT score vs\\npercentage of Hispanic students')"
      ]
     },
     "execution_count": 16,
     "metadata": {},
     "output_type": "execute_result"
    },
    {
     "data": {
      "text/plain": [
       "Text(-15, 500, '___________________________________________________________________')"
      ]
     },
     "execution_count": 16,
     "metadata": {},
     "output_type": "execute_result"
    },
    {
     "data": {
      "text/plain": [
       "Text(-15, 400, '© ANDREW HETHERINGTON   Source: National Center for Education Statistics   ')"
      ]
     },
     "execution_count": 16,
     "metadata": {},
     "output_type": "execute_result"
    },
    {
     "data": {
      "image/png": "[encoded data removed]",
      "text/plain": [
       "<Figure size 432x288 with 1 Axes>"
      ]
     },
     "metadata": {},
     "output_type": "display_data"
    }
   ],
   "source": [
    "fig, ax = plt.subplots()\n",
    "\n",
    "ax.scatter(combined[\"hispanic_per\"], combined[\"sat_score\"])\n",
    "\n",
    "ax.set_xlabel(\"%\", labelpad=10)\n",
    "\n",
    "# ax.set_ylabel(\"Average SAT score\", labelpad=10)\n",
    "\n",
    "ax.text(x = -10, y = 2250, s = \"Average SAT score vs\\npercentage of Hispanic students\",\n",
    "               fontsize = 21, weight = 'bold', alpha = .75)\n",
    "\n",
    "ax.text(x = -15, y = 500,\n",
    "    s = '___________________________________________________________________',\n",
    "    color = 'grey', alpha = .7)\n",
    "\n",
    "ax.text(x = -15, y = 400,\n",
    "    s = '© ANDREW HETHERINGTON   Source: National Center for Education Statistics   ',\n",
    "    fontsize = 12, color = 'grey', alpha = .7)"
   ]
  },
  {
   "cell_type": "markdown",
   "metadata": {},
   "source": [
    "We can see that for the majority of the data, there does not seem to be any link between the two varialbes.  However, there are a relatively small number of school with low proportions of Hispanic students who tend to score very highly on the SAT, as well as a number of school which are essentially completely made up of Hispanic students that score particularly low on the SAT.  The presence of these groups will be what is influencing the correlation coefficient are bringing in down and away from zero. \n",
    "\n",
    "Let's do some of our own research into the schools with particularly high and low values for hispanic_per.  These schools are:"
   ]
  },
  {
   "cell_type": "code",
   "execution_count": 17,
   "metadata": {},
   "outputs": [
    {
     "data": {
      "text/plain": [
       "44                         MANHATTAN BRIDGES HIGH SCHOOL\n",
       "82      WASHINGTON HEIGHTS EXPEDITIONARY LEARNING SCHOOL\n",
       "89     GREGORIO LUPERON HIGH SCHOOL FOR SCIENCE AND M...\n",
       "125                  ACADEMY FOR LANGUAGE AND TECHNOLOGY\n",
       "141                INTERNATIONAL SCHOOL FOR LIBERAL ARTS\n",
       "176     PAN AMERICAN INTERNATIONAL HIGH SCHOOL AT MONROE\n",
       "253                            MULTICULTURAL HIGH SCHOOL\n",
       "286               PAN AMERICAN INTERNATIONAL HIGH SCHOOL\n",
       "Name: SCHOOL NAME, dtype: object"
      ]
     },
     "execution_count": 17,
     "metadata": {},
     "output_type": "execute_result"
    }
   ],
   "source": [
    "combined[combined[\"hispanic_per\"] > 95][\"SCHOOL NAME\"]"
   ]
  },
  {
   "cell_type": "markdown",
   "metadata": {},
   "source": [
    "A lot of these are international schools or multipcultural schools, which explains their high proportion of Hispanic students.  For example, the PAN AMERICAN INTERNATIONAL HIGH SCHOOL consists entirely of Spanish-speaking students who have all been in the US for less than 4 years.  It would be interesting to see how the SAT scores break down across the three subjects to see whether there are any scores on which these students tend to sscore particularly poorly. "
   ]
  },
  {
   "cell_type": "code",
   "execution_count": 18,
   "metadata": {},
   "outputs": [
    {
     "data": {
      "text/html": [
       "<div>\n",
       "<style scoped>\n",
       "    .dataframe tbody tr th:only-of-type {\n",
       "        vertical-align: middle;\n",
       "    }\n",
       "\n",
       "    .dataframe tbody tr th {\n",
       "        vertical-align: top;\n",
       "    }\n",
       "\n",
       "    .dataframe thead th {\n",
       "        text-align: right;\n",
       "    }\n",
       "</style>\n",
       "<table border=\"1\" class=\"dataframe\">\n",
       "  <thead>\n",
       "    <tr style=\"text-align: right;\">\n",
       "      <th></th>\n",
       "      <th>white_per</th>\n",
       "      <th>asian_per</th>\n",
       "      <th>black_per</th>\n",
       "      <th>hispanic_per</th>\n",
       "    </tr>\n",
       "  </thead>\n",
       "  <tbody>\n",
       "    <tr>\n",
       "      <th>286</th>\n",
       "      <td>0.0</td>\n",
       "      <td>0.0</td>\n",
       "      <td>0.0</td>\n",
       "      <td>100.0</td>\n",
       "    </tr>\n",
       "  </tbody>\n",
       "</table>\n",
       "</div>"
      ],
      "text/plain": [
       "     white_per  asian_per  black_per  hispanic_per\n",
       "286        0.0        0.0        0.0         100.0"
      ]
     },
     "execution_count": 18,
     "metadata": {},
     "output_type": "execute_result"
    },
    {
     "data": {
      "text/html": [
       "<div>\n",
       "<style scoped>\n",
       "    .dataframe tbody tr th:only-of-type {\n",
       "        vertical-align: middle;\n",
       "    }\n",
       "\n",
       "    .dataframe tbody tr th {\n",
       "        vertical-align: top;\n",
       "    }\n",
       "\n",
       "    .dataframe thead th {\n",
       "        text-align: right;\n",
       "    }\n",
       "</style>\n",
       "<table border=\"1\" class=\"dataframe\">\n",
       "  <thead>\n",
       "    <tr style=\"text-align: right;\">\n",
       "      <th></th>\n",
       "      <th>sat_score</th>\n",
       "      <th>SAT Critical Reading Avg. Score</th>\n",
       "      <th>SAT Math Avg. Score</th>\n",
       "      <th>SAT Writing Avg. Score</th>\n",
       "    </tr>\n",
       "  </thead>\n",
       "  <tbody>\n",
       "    <tr>\n",
       "      <th>286</th>\n",
       "      <td>951.0</td>\n",
       "      <td>317.0</td>\n",
       "      <td>323.0</td>\n",
       "      <td>311.0</td>\n",
       "    </tr>\n",
       "  </tbody>\n",
       "</table>\n",
       "</div>"
      ],
      "text/plain": [
       "     sat_score  SAT Critical Reading Avg. Score  SAT Math Avg. Score  \\\n",
       "286      951.0                            317.0                323.0   \n",
       "\n",
       "     SAT Writing Avg. Score  \n",
       "286                   311.0  "
      ]
     },
     "execution_count": 18,
     "metadata": {},
     "output_type": "execute_result"
    }
   ],
   "source": [
    "subjects = [\"sat_score\", \"SAT Critical Reading Avg. Score\", \"SAT Math Avg. Score\", \"SAT Writing Avg. Score\"]\n",
    "combined[combined[\"SCHOOL NAME\"] == \"PAN AMERICAN INTERNATIONAL HIGH SCHOOL\"][racial_fields]\n",
    "combined[combined[\"SCHOOL NAME\"] == \"PAN AMERICAN INTERNATIONAL HIGH SCHOOL\"][subjects]"
   ]
  },
  {
   "cell_type": "markdown",
   "metadata": {},
   "source": [
    "We can observe that there are no subjects which the students at this school tend to score especially poorly on."
   ]
  },
  {
   "cell_type": "code",
   "execution_count": 19,
   "metadata": {},
   "outputs": [
    {
     "data": {
      "text/plain": [
       "37                                STUYVESANT HIGH SCHOOL\n",
       "46       HIGH SCHOOL FOR DUAL LANGUAGE AND ASIAN STUDIES\n",
       "235              MEDGAR EVERS COLLEGE PREPARATORY SCHOOL\n",
       "237                           IT TAKES A VILLAGE ACADEMY\n",
       "331    PATHWAYS COLLEGE PREPARATORY SCHOOL: A COLLEGE...\n",
       "Name: SCHOOL NAME, dtype: object"
      ]
     },
     "execution_count": 19,
     "metadata": {},
     "output_type": "execute_result"
    }
   ],
   "source": [
    "combined[combined[\"hispanic_per\"] < 5][\"SCHOOL NAME\"]"
   ]
  },
  {
   "cell_type": "markdown",
   "metadata": {},
   "source": [
    "Randomly picking and researching one of these schools, the MEDGAR EVERS COLLEGE PREPARATORY SCHOOL, yields the following demographics:\n",
    "\n",
    "### Race / Ethnicity\n",
    "- White: 8\n",
    "- Hispanic / Latino: 60\n",
    "- Black: 1,080\n",
    "- Asian: 23\n",
    "- Native American: 19\n",
    "- Hawaiian / Pacific Islander: 12\n",
    "- Mixed: 21\n",
    "- Not Specified: Not Applicable\n",
    "\n",
    "Source: https://www.realtyhop.com/schools/k12/ny/brooklyn/medgar-evers-college-preparatory-school-11225"
   ]
  },
  {
   "cell_type": "code",
   "execution_count": 20,
   "metadata": {},
   "outputs": [
    {
     "data": {
      "text/html": [
       "<div>\n",
       "<style scoped>\n",
       "    .dataframe tbody tr th:only-of-type {\n",
       "        vertical-align: middle;\n",
       "    }\n",
       "\n",
       "    .dataframe tbody tr th {\n",
       "        vertical-align: top;\n",
       "    }\n",
       "\n",
       "    .dataframe thead th {\n",
       "        text-align: right;\n",
       "    }\n",
       "</style>\n",
       "<table border=\"1\" class=\"dataframe\">\n",
       "  <thead>\n",
       "    <tr style=\"text-align: right;\">\n",
       "      <th></th>\n",
       "      <th>white_per</th>\n",
       "      <th>asian_per</th>\n",
       "      <th>black_per</th>\n",
       "      <th>hispanic_per</th>\n",
       "    </tr>\n",
       "  </thead>\n",
       "  <tbody>\n",
       "    <tr>\n",
       "      <th>235</th>\n",
       "      <td>0.0</td>\n",
       "      <td>0.9</td>\n",
       "      <td>95.7</td>\n",
       "      <td>2.8</td>\n",
       "    </tr>\n",
       "  </tbody>\n",
       "</table>\n",
       "</div>"
      ],
      "text/plain": [
       "     white_per  asian_per  black_per  hispanic_per\n",
       "235        0.0        0.9       95.7           2.8"
      ]
     },
     "execution_count": 20,
     "metadata": {},
     "output_type": "execute_result"
    },
    {
     "data": {
      "text/html": [
       "<div>\n",
       "<style scoped>\n",
       "    .dataframe tbody tr th:only-of-type {\n",
       "        vertical-align: middle;\n",
       "    }\n",
       "\n",
       "    .dataframe tbody tr th {\n",
       "        vertical-align: top;\n",
       "    }\n",
       "\n",
       "    .dataframe thead th {\n",
       "        text-align: right;\n",
       "    }\n",
       "</style>\n",
       "<table border=\"1\" class=\"dataframe\">\n",
       "  <thead>\n",
       "    <tr style=\"text-align: right;\">\n",
       "      <th></th>\n",
       "      <th>sat_score</th>\n",
       "      <th>SAT Critical Reading Avg. Score</th>\n",
       "      <th>SAT Math Avg. Score</th>\n",
       "      <th>SAT Writing Avg. Score</th>\n",
       "    </tr>\n",
       "  </thead>\n",
       "  <tbody>\n",
       "    <tr>\n",
       "      <th>235</th>\n",
       "      <td>1436.0</td>\n",
       "      <td>476.0</td>\n",
       "      <td>481.0</td>\n",
       "      <td>479.0</td>\n",
       "    </tr>\n",
       "  </tbody>\n",
       "</table>\n",
       "</div>"
      ],
      "text/plain": [
       "     sat_score  SAT Critical Reading Avg. Score  SAT Math Avg. Score  \\\n",
       "235     1436.0                            476.0                481.0   \n",
       "\n",
       "     SAT Writing Avg. Score  \n",
       "235                   479.0  "
      ]
     },
     "execution_count": 20,
     "metadata": {},
     "output_type": "execute_result"
    }
   ],
   "source": [
    "combined[combined[\"SCHOOL NAME\"] == \"MEDGAR EVERS COLLEGE PREPARATORY SCHOOL\"][racial_fields]\n",
    "combined[combined[\"SCHOOL NAME\"] == \"MEDGAR EVERS COLLEGE PREPARATORY SCHOOL\"][subjects]"
   ]
  },
  {
   "cell_type": "markdown",
   "metadata": {},
   "source": [
    "The data we have is consistent with our internet research.  We can observe that this school appears to have a relatively high average SAT score when compared to the bulk of other schools in the region.\n",
    "\n",
    "But what about those outliers with exceptionally high SAT scores and very low proportions of Hispanic students?"
   ]
  },
  {
   "cell_type": "code",
   "execution_count": 21,
   "metadata": {},
   "outputs": [
    {
     "data": {
      "text/plain": [
       "37                                STUYVESANT HIGH SCHOOL\n",
       "151                         BRONX HIGH SCHOOL OF SCIENCE\n",
       "187                       BROOKLYN TECHNICAL HIGH SCHOOL\n",
       "327    QUEENS HIGH SCHOOL FOR THE SCIENCES AT YORK CO...\n",
       "356                  STATEN ISLAND TECHNICAL HIGH SCHOOL\n",
       "Name: SCHOOL NAME, dtype: object"
      ]
     },
     "execution_count": 21,
     "metadata": {},
     "output_type": "execute_result"
    }
   ],
   "source": [
    "combined[(combined[\"hispanic_per\"] < 10) & (combined[\"sat_score\"] > 1800)][\"SCHOOL NAME\"]"
   ]
  },
  {
   "cell_type": "markdown",
   "metadata": {},
   "source": [
    "Quickly researching STUYVESANT HIGH SCHOOL, we can find an article from the New York times explaining that this is an extremely selective school where the majority of students are of Asian ethnicity.  Very few Hispaninc students are admitted.  the article contains some graphs which illuminate the situation.  We can also see here some of the other schools we identified above."
   ]
  },
  {
   "cell_type": "markdown",
   "metadata": {},
   "source": [
    "<img src=\"selective_nyc_schools.png\">"
   ]
  },
  {
   "cell_type": "markdown",
   "metadata": {},
   "source": [
    "Although the article linked above mainly focuses on the low proportion of Black students at these high schools, we can also observe that the same arguments could be made for Hispanic students.  Let's compare the above proprtions to the proportions in the total number of children in the NYC high school system:\n",
    "\n",
    "_There are 1,126,501 students in the NYC school system, the largest school district in the United States. Of those students:_\n",
    "\n",
    "- 13.2 percent of students are English Language Learners\n",
    "- 20.2 percent are students with disabilities\n",
    "- 72.8 percent are economically disadvantaged\n",
    "- Race or ethnicity:\n",
    "- 40.6 percent Hispanic\n",
    "- 25.5 percent black\n",
    "- 16.2 percent Asian\n",
    "- 15.1 percent white\n",
    "- 119,551 are in charter schools\n",
    "\n",
    "So the comparison to make is with the proportion of Hispanic students in the high school system as a whole: 40.6%.  All other things equal, we would expect the typical school to have something close to these proprtions in terms of student demographics.  This is not what we observe for the schools above.  Although we have not done any detailed statistical analysis to quantify how confident we are in stating that there is a statistically significant difference in these schools' demographics (and in particular, we have no basis to make assertions about why this may be the case) but there definitely seems to be a major discrepancy."
   ]
  },
  {
   "cell_type": "markdown",
   "metadata": {},
   "source": [
    "Next, let's look at how the proportion of male and female students correlates with the SAT scores in our data."
   ]
  },
  {
   "cell_type": "code",
   "execution_count": 49,
   "metadata": {},
   "outputs": [
    {
     "data": {
      "text/plain": [
       "<BarContainer object of 2 artists>"
      ]
     },
     "execution_count": 49,
     "metadata": {},
     "output_type": "execute_result"
    },
    {
     "data": {
      "text/plain": [
       "Text(0.5, 0, 'Proportion of students')"
      ]
     },
     "execution_count": 49,
     "metadata": {},
     "output_type": "execute_result"
    },
    {
     "data": {
      "text/plain": [
       "Text(0, 0.5, 'Correlation coefficient')"
      ]
     },
     "execution_count": 49,
     "metadata": {},
     "output_type": "execute_result"
    },
    {
     "data": {
      "text/plain": [
       "[<matplotlib.axis.XTick at 0x21da1c69548>,\n",
       " <matplotlib.axis.XTick at 0x21da1c6d6c8>]"
      ]
     },
     "execution_count": 49,
     "metadata": {},
     "output_type": "execute_result"
    },
    {
     "data": {
      "text/plain": [
       "[Text(0, 0, 'Male'), Text(0, 0, 'Female')]"
      ]
     },
     "execution_count": 49,
     "metadata": {},
     "output_type": "execute_result"
    },
    {
     "data": {
      "text/plain": [
       "Text(0.7, 0.15, 'Correlation between sex and SAT score')"
      ]
     },
     "execution_count": 49,
     "metadata": {},
     "output_type": "execute_result"
    },
    {
     "data": {
      "text/plain": [
       "Text(0.7, -0.2, '___________________________________________________________________')"
      ]
     },
     "execution_count": 49,
     "metadata": {},
     "output_type": "execute_result"
    },
    {
     "data": {
      "text/plain": [
       "Text(0.7, -0.23, '© ANDREW HETHERINGTON   Source: National Center for Education Statistics   ')"
      ]
     },
     "execution_count": 49,
     "metadata": {},
     "output_type": "execute_result"
    },
    {
     "data": {
      "text/plain": [
       "<matplotlib.lines.Line2D at 0x21da1cb43c8>"
      ]
     },
     "execution_count": 49,
     "metadata": {},
     "output_type": "execute_result"
    },
    {
     "data": {
      "image/png": "[encoded data removed]",
      "text/plain": [
       "<Figure size 216x252 with 1 Axes>"
      ]
     },
     "metadata": {},
     "output_type": "display_data"
    }
   ],
   "source": [
    "sex_fields = [\"male_per\", \"female_per\"]\n",
    "\n",
    "fig, ax = plt.subplots(figsize=(3,3.5))\n",
    "\n",
    "ax.bar([1,1.2], correlations[sex_fields], width=0.1)\n",
    "\n",
    "ax.set_xlabel(\"Proportion of students\", labelpad=10)\n",
    "\n",
    "ax.set_ylabel(\"Correlation coefficient\", labelpad=10)\n",
    "\n",
    "ax.set_xticks([1,1.2])\n",
    "\n",
    "labels = [\"Male\", \"Female\"]\n",
    "\n",
    "ax.set_xticklabels(labels)\n",
    "\n",
    "ax.text(x = 0.7, y = 0.15, s = \"Correlation between sex and SAT score\",\n",
    "               fontsize = 21, weight = 'bold', alpha = .75)\n",
    "\n",
    "ax.text(x = 0.7, y = -0.2,\n",
    "    s = '___________________________________________________________________',\n",
    "    color = 'grey', alpha = .7)\n",
    "\n",
    "ax.text(x = 0.7, y = -0.23,\n",
    "    s = '© ANDREW HETHERINGTON   Source: National Center for Education Statistics   ',\n",
    "    fontsize = 12, color = 'grey', alpha = .7)\n",
    "\n",
    "# ax.spines['top'].set_color('none')\n",
    "# ax.spines['right'].set_color('none')\n",
    "# ax.spines['left'].set_smart_bounds(True)\n",
    "# ax.spines['bottom'].set_smart_bounds(True)\n",
    "\n",
    "# Make the zero line more visible so it's easier to distinguish positive vs negative values\n",
    "plt.axhline(y=0, xmin=0, xmax=1, color=\"k\", linewidth=1)\n",
    "\n",
    "plt.show()"
   ]
  },
  {
   "cell_type": "code",
   "execution_count": 50,
   "metadata": {},
   "outputs": [
    {
     "data": {
      "text/plain": [
       "<matplotlib.collections.PathCollection at 0x21d9ebb2e08>"
      ]
     },
     "execution_count": 50,
     "metadata": {},
     "output_type": "execute_result"
    },
    {
     "data": {
      "text/plain": [
       "Text(0.5, 0, '%')"
      ]
     },
     "execution_count": 50,
     "metadata": {},
     "output_type": "execute_result"
    },
    {
     "data": {
      "text/plain": [
       "Text(-10, 2250, 'Average SAT score vs\\npercentage of Male students')"
      ]
     },
     "execution_count": 50,
     "metadata": {},
     "output_type": "execute_result"
    },
    {
     "data": {
      "text/plain": [
       "Text(-15, 500, '___________________________________________________________________')"
      ]
     },
     "execution_count": 50,
     "metadata": {},
     "output_type": "execute_result"
    },
    {
     "data": {
      "text/plain": [
       "Text(-15, 400, '© ANDREW HETHERINGTON   Source: National Center for Education Statistics   ')"
      ]
     },
     "execution_count": 50,
     "metadata": {},
     "output_type": "execute_result"
    },
    {
     "data": {
      "image/png": "[encoded data removed]",
      "text/plain": [
       "<Figure size 432x288 with 1 Axes>"
      ]
     },
     "metadata": {},
     "output_type": "display_data"
    }
   ],
   "source": [
    "fig, ax = plt.subplots()\n",
    "\n",
    "ax.scatter(combined[\"male_per\"], combined[\"sat_score\"])\n",
    "\n",
    "ax.set_xlabel(\"%\", labelpad=10)\n",
    "\n",
    "# ax.set_ylabel(\"Average SAT score\", labelpad=10)\n",
    "\n",
    "ax.text(x = -10, y = 2250, s = \"Average SAT score vs\\npercentage of Male students\",\n",
    "               fontsize = 21, weight = 'bold', alpha = .75)\n",
    "\n",
    "ax.text(x = -15, y = 500,\n",
    "    s = '___________________________________________________________________',\n",
    "    color = 'grey', alpha = .7)\n",
    "\n",
    "ax.text(x = -15, y = 400,\n",
    "    s = '© ANDREW HETHERINGTON   Source: National Center for Education Statistics   ',\n",
    "    fontsize = 12, color = 'grey', alpha = .7)"
   ]
  },
  {
   "cell_type": "code",
   "execution_count": 51,
   "metadata": {},
   "outputs": [
    {
     "data": {
      "text/plain": [
       "<matplotlib.collections.PathCollection at 0x21da1d03088>"
      ]
     },
     "execution_count": 51,
     "metadata": {},
     "output_type": "execute_result"
    },
    {
     "data": {
      "text/plain": [
       "Text(0.5, 0, '%')"
      ]
     },
     "execution_count": 51,
     "metadata": {},
     "output_type": "execute_result"
    },
    {
     "data": {
      "text/plain": [
       "Text(-10, 2250, 'Average SAT score vs\\npercentage of Female students')"
      ]
     },
     "execution_count": 51,
     "metadata": {},
     "output_type": "execute_result"
    },
    {
     "data": {
      "text/plain": [
       "Text(-15, 500, '___________________________________________________________________')"
      ]
     },
     "execution_count": 51,
     "metadata": {},
     "output_type": "execute_result"
    },
    {
     "data": {
      "text/plain": [
       "Text(-15, 400, '© ANDREW HETHERINGTON   Source: National Center for Education Statistics   ')"
      ]
     },
     "execution_count": 51,
     "metadata": {},
     "output_type": "execute_result"
    },
    {
     "data": {
      "image/png": "[encoded data removed]",
      "text/plain": [
       "<Figure size 432x288 with 1 Axes>"
      ]
     },
     "metadata": {},
     "output_type": "display_data"
    }
   ],
   "source": [
    "fig, ax = plt.subplots()\n",
    "\n",
    "ax.scatter(combined[\"female_per\"], combined[\"sat_score\"])\n",
    "\n",
    "ax.set_xlabel(\"%\", labelpad=10)\n",
    "\n",
    "# ax.set_ylabel(\"Average SAT score\", labelpad=10)\n",
    "\n",
    "ax.text(x = -10, y = 2250, s = \"Average SAT score vs\\npercentage of Female students\",\n",
    "               fontsize = 21, weight = 'bold', alpha = .75)\n",
    "\n",
    "ax.text(x = -15, y = 500,\n",
    "    s = '___________________________________________________________________',\n",
    "    color = 'grey', alpha = .7)\n",
    "\n",
    "ax.text(x = -15, y = 400,\n",
    "    s = '© ANDREW HETHERINGTON   Source: National Center for Education Statistics   ',\n",
    "    fontsize = 12, color = 'grey', alpha = .7)"
   ]
  },
  {
   "cell_type": "markdown",
   "metadata": {},
   "source": [
    "There is essentially no correlation between the proportion of male or female students and SAT scores - this is evidenced by the correlation coefficients being close to zero.  Furthermore, we can see that there are no visual trends in the scatter plots for all the schools in the dataset.\n",
    "\n",
    "Let's investigate the schools with high SAT scores and a high proportion of female students, which for the purposes of our analysis, we will define as having a female proportion greater than 60% with an average SAT score of over 1700."
   ]
  },
  {
   "cell_type": "code",
   "execution_count": 52,
   "metadata": {},
   "outputs": [
    {
     "data": {
      "text/html": [
       "<div>\n",
       "<style scoped>\n",
       "    .dataframe tbody tr th:only-of-type {\n",
       "        vertical-align: middle;\n",
       "    }\n",
       "\n",
       "    .dataframe tbody tr th {\n",
       "        vertical-align: top;\n",
       "    }\n",
       "\n",
       "    .dataframe thead th {\n",
       "        text-align: right;\n",
       "    }\n",
       "</style>\n",
       "<table border=\"1\" class=\"dataframe\">\n",
       "  <thead>\n",
       "    <tr style=\"text-align: right;\">\n",
       "      <th></th>\n",
       "      <th>DBN</th>\n",
       "      <th>SCHOOL NAME</th>\n",
       "      <th>Num of SAT Test Takers</th>\n",
       "      <th>SAT Critical Reading Avg. Score</th>\n",
       "      <th>SAT Math Avg. Score</th>\n",
       "      <th>SAT Writing Avg. Score</th>\n",
       "      <th>sat_score</th>\n",
       "      <th>SchoolName</th>\n",
       "      <th>AP Test Takers</th>\n",
       "      <th>Total Exams Taken</th>\n",
       "      <th>Number of Exams with scores 3 4 or 5</th>\n",
       "      <th>Demographic</th>\n",
       "      <th>School Name</th>\n",
       "      <th>Cohort</th>\n",
       "      <th>Total Cohort</th>\n",
       "      <th>Total Grads - n</th>\n",
       "      <th>Total Grads - % of cohort</th>\n",
       "      <th>Total Regents - n</th>\n",
       "      <th>Total Regents - % of cohort</th>\n",
       "      <th>Total Regents - % of grads</th>\n",
       "      <th>Advanced Regents - n</th>\n",
       "      <th>Advanced Regents - % of cohort</th>\n",
       "      <th>Advanced Regents - % of grads</th>\n",
       "      <th>Regents w/o Advanced - n</th>\n",
       "      <th>Regents w/o Advanced - % of cohort</th>\n",
       "      <th>...</th>\n",
       "      <th>partner_corporate</th>\n",
       "      <th>partner_financial</th>\n",
       "      <th>partner_other</th>\n",
       "      <th>addtl_info1</th>\n",
       "      <th>addtl_info2</th>\n",
       "      <th>start_time</th>\n",
       "      <th>end_time</th>\n",
       "      <th>se_services</th>\n",
       "      <th>ell_programs</th>\n",
       "      <th>school_accessibility_description</th>\n",
       "      <th>number_programs</th>\n",
       "      <th>priority01</th>\n",
       "      <th>priority02</th>\n",
       "      <th>priority03</th>\n",
       "      <th>priority04</th>\n",
       "      <th>priority05</th>\n",
       "      <th>priority06</th>\n",
       "      <th>priority07</th>\n",
       "      <th>priority08</th>\n",
       "      <th>priority09</th>\n",
       "      <th>priority10</th>\n",
       "      <th>Location 1</th>\n",
       "      <th>lat</th>\n",
       "      <th>lon</th>\n",
       "      <th>school_dist</th>\n",
       "    </tr>\n",
       "  </thead>\n",
       "  <tbody>\n",
       "    <tr>\n",
       "      <th>5</th>\n",
       "      <td>01M696</td>\n",
       "      <td>BARD HIGH SCHOOL EARLY COLLEGE</td>\n",
       "      <td>130</td>\n",
       "      <td>624.0</td>\n",
       "      <td>604.0</td>\n",
       "      <td>628.0</td>\n",
       "      <td>1856.0</td>\n",
       "      <td>0</td>\n",
       "      <td>129.028846</td>\n",
       "      <td>197.038462</td>\n",
       "      <td>153.45</td>\n",
       "      <td>Total Cohort</td>\n",
       "      <td>BARD HIGH SCHOOL EARLY COLLEGE</td>\n",
       "      <td>2006</td>\n",
       "      <td>139.0</td>\n",
       "      <td>134</td>\n",
       "      <td>96.4%</td>\n",
       "      <td>134</td>\n",
       "      <td>96.4%</td>\n",
       "      <td>100%</td>\n",
       "      <td>0</td>\n",
       "      <td>0%</td>\n",
       "      <td>0%</td>\n",
       "      <td>134</td>\n",
       "      <td>96.4%</td>\n",
       "      <td>...</td>\n",
       "      <td>0</td>\n",
       "      <td>0</td>\n",
       "      <td>New York Academy of Sciences</td>\n",
       "      <td>0</td>\n",
       "      <td>Student Summer Orientation</td>\n",
       "      <td>9:00 AM</td>\n",
       "      <td>3:50 PM</td>\n",
       "      <td>This school will provide students with disabil...</td>\n",
       "      <td>ESL</td>\n",
       "      <td>Not Functionally Accessible</td>\n",
       "      <td>1</td>\n",
       "      <td>Open to New York City residents</td>\n",
       "      <td>0</td>\n",
       "      <td>0</td>\n",
       "      <td>0</td>\n",
       "      <td>0</td>\n",
       "      <td>0</td>\n",
       "      <td>0</td>\n",
       "      <td>0</td>\n",
       "      <td>0</td>\n",
       "      <td>0</td>\n",
       "      <td>525 East Houston Street\\nNew York, NY 10002\\n(...</td>\n",
       "      <td>40.718962</td>\n",
       "      <td>-73.976066</td>\n",
       "      <td>01</td>\n",
       "    </tr>\n",
       "    <tr>\n",
       "      <th>26</th>\n",
       "      <td>02M416</td>\n",
       "      <td>ELEANOR ROOSEVELT HIGH SCHOOL</td>\n",
       "      <td>127</td>\n",
       "      <td>572.0</td>\n",
       "      <td>594.0</td>\n",
       "      <td>592.0</td>\n",
       "      <td>1758.0</td>\n",
       "      <td>Eleanor Roosevelt High School</td>\n",
       "      <td>155.000000</td>\n",
       "      <td>235.000000</td>\n",
       "      <td>169.00</td>\n",
       "      <td>Total Cohort</td>\n",
       "      <td>ELEANOR ROOSEVELT HIGH SCHOOL</td>\n",
       "      <td>2006</td>\n",
       "      <td>127.0</td>\n",
       "      <td>127</td>\n",
       "      <td>100%</td>\n",
       "      <td>126</td>\n",
       "      <td>99.2%</td>\n",
       "      <td>99.2%</td>\n",
       "      <td>110</td>\n",
       "      <td>86.6%</td>\n",
       "      <td>86.6%</td>\n",
       "      <td>16</td>\n",
       "      <td>12.6%</td>\n",
       "      <td>...</td>\n",
       "      <td>0</td>\n",
       "      <td>0</td>\n",
       "      <td>Virtual High School - PTA-funded online enrich...</td>\n",
       "      <td>0</td>\n",
       "      <td>Community Service Requirement</td>\n",
       "      <td>8:30 AM</td>\n",
       "      <td>3:30 PM</td>\n",
       "      <td>This school will provide students with disabil...</td>\n",
       "      <td>ESL</td>\n",
       "      <td>Functionally Accessible</td>\n",
       "      <td>1</td>\n",
       "      <td>Priority to District 2 students or residents</td>\n",
       "      <td>Then to Manhattan students or residents</td>\n",
       "      <td>Then to New York City residents</td>\n",
       "      <td>0</td>\n",
       "      <td>0</td>\n",
       "      <td>0</td>\n",
       "      <td>0</td>\n",
       "      <td>0</td>\n",
       "      <td>0</td>\n",
       "      <td>0</td>\n",
       "      <td>411 East 76 Street\\nNew York, NY 10021\\n(40.77...</td>\n",
       "      <td>40.770116</td>\n",
       "      <td>-73.953379</td>\n",
       "      <td>02</td>\n",
       "    </tr>\n",
       "    <tr>\n",
       "      <th>60</th>\n",
       "      <td>03M479</td>\n",
       "      <td>BEACON HIGH SCHOOL</td>\n",
       "      <td>261</td>\n",
       "      <td>577.0</td>\n",
       "      <td>575.0</td>\n",
       "      <td>592.0</td>\n",
       "      <td>1744.0</td>\n",
       "      <td>BEACON SCHOOL</td>\n",
       "      <td>166.000000</td>\n",
       "      <td>197.000000</td>\n",
       "      <td>140.00</td>\n",
       "      <td>Total Cohort</td>\n",
       "      <td>BEACON HIGH SCHOOL</td>\n",
       "      <td>2006</td>\n",
       "      <td>269.0</td>\n",
       "      <td>259</td>\n",
       "      <td>96.3%</td>\n",
       "      <td>247</td>\n",
       "      <td>91.8%</td>\n",
       "      <td>95.4%</td>\n",
       "      <td>0</td>\n",
       "      <td>0%</td>\n",
       "      <td>0%</td>\n",
       "      <td>247</td>\n",
       "      <td>91.8%</td>\n",
       "      <td>...</td>\n",
       "      <td>0</td>\n",
       "      <td>0</td>\n",
       "      <td>0</td>\n",
       "      <td>Chancellor’s Arts Endorsed Diploma</td>\n",
       "      <td>Community Service Requirement, Our school requ...</td>\n",
       "      <td>8:00 AM</td>\n",
       "      <td>3:00 PM</td>\n",
       "      <td>This school will provide students with disabil...</td>\n",
       "      <td>ESL</td>\n",
       "      <td>Functionally Accessible</td>\n",
       "      <td>1</td>\n",
       "      <td>Open to New York City residents</td>\n",
       "      <td>0</td>\n",
       "      <td>0</td>\n",
       "      <td>0</td>\n",
       "      <td>0</td>\n",
       "      <td>0</td>\n",
       "      <td>0</td>\n",
       "      <td>0</td>\n",
       "      <td>0</td>\n",
       "      <td>0</td>\n",
       "      <td>227-243 West 61St Street\\nNew York, NY 10023\\n...</td>\n",
       "      <td>40.772158</td>\n",
       "      <td>-73.987797</td>\n",
       "      <td>03</td>\n",
       "    </tr>\n",
       "    <tr>\n",
       "      <th>61</th>\n",
       "      <td>03M485</td>\n",
       "      <td>FIORELLO H. LAGUARDIA HIGH SCHOOL OF MUSIC &amp; A...</td>\n",
       "      <td>531</td>\n",
       "      <td>566.0</td>\n",
       "      <td>564.0</td>\n",
       "      <td>577.0</td>\n",
       "      <td>1707.0</td>\n",
       "      <td>FIORELLO H.LAGUARDIA HS</td>\n",
       "      <td>691.000000</td>\n",
       "      <td>1236.000000</td>\n",
       "      <td>790.00</td>\n",
       "      <td>Total Cohort</td>\n",
       "      <td>FIORELLO H. LAGUARDIA HIGH SCHOOL OF</td>\n",
       "      <td>2006</td>\n",
       "      <td>646.0</td>\n",
       "      <td>627</td>\n",
       "      <td>97.1%</td>\n",
       "      <td>621</td>\n",
       "      <td>96.1%</td>\n",
       "      <td>99%</td>\n",
       "      <td>324</td>\n",
       "      <td>50.2%</td>\n",
       "      <td>51.7%</td>\n",
       "      <td>297</td>\n",
       "      <td>46%</td>\n",
       "      <td>...</td>\n",
       "      <td>Sony Music, Warner Music Group, Capital Cities...</td>\n",
       "      <td>0</td>\n",
       "      <td>0</td>\n",
       "      <td>Chancellor’s Arts Endorsed Diploma</td>\n",
       "      <td>0</td>\n",
       "      <td>8:00 AM</td>\n",
       "      <td>4:00 PM</td>\n",
       "      <td>This school will provide students with disabil...</td>\n",
       "      <td>ESL</td>\n",
       "      <td>Functionally Accessible</td>\n",
       "      <td>6</td>\n",
       "      <td>Open to New York City residents</td>\n",
       "      <td>Admission is based on the outcome of a competi...</td>\n",
       "      <td>Students must audition for each program (studi...</td>\n",
       "      <td>Students must be residents of New York City at...</td>\n",
       "      <td>0</td>\n",
       "      <td>0</td>\n",
       "      <td>0</td>\n",
       "      <td>0</td>\n",
       "      <td>0</td>\n",
       "      <td>0</td>\n",
       "      <td>100 Amsterdam Avenue\\nNew York, NY 10023\\n(40....</td>\n",
       "      <td>40.773671</td>\n",
       "      <td>-73.985269</td>\n",
       "      <td>03</td>\n",
       "    </tr>\n",
       "    <tr>\n",
       "      <th>302</th>\n",
       "      <td>25Q525</td>\n",
       "      <td>TOWNSEND HARRIS HIGH SCHOOL</td>\n",
       "      <td>278</td>\n",
       "      <td>621.0</td>\n",
       "      <td>651.0</td>\n",
       "      <td>638.0</td>\n",
       "      <td>1910.0</td>\n",
       "      <td>TOWNSEND HARRIS HS</td>\n",
       "      <td>613.000000</td>\n",
       "      <td>796.000000</td>\n",
       "      <td>625.00</td>\n",
       "      <td>Total Cohort</td>\n",
       "      <td>TOWNSEND HARRIS HIGH SCHOOL</td>\n",
       "      <td>2006</td>\n",
       "      <td>278.0</td>\n",
       "      <td>278</td>\n",
       "      <td>100%</td>\n",
       "      <td>278</td>\n",
       "      <td>100%</td>\n",
       "      <td>100%</td>\n",
       "      <td>271</td>\n",
       "      <td>97.5%</td>\n",
       "      <td>97.5%</td>\n",
       "      <td>7</td>\n",
       "      <td>2.5%</td>\n",
       "      <td>...</td>\n",
       "      <td>Bloomberg LLP, Con Edison, Intel</td>\n",
       "      <td>0</td>\n",
       "      <td>Townsend Harris Alumni Association</td>\n",
       "      <td>Townsend Harris students take 8 academic subje...</td>\n",
       "      <td>Community Service Requirement</td>\n",
       "      <td>8:20 AM</td>\n",
       "      <td>3:00 PM</td>\n",
       "      <td>This school will provide students with disabil...</td>\n",
       "      <td>ESL</td>\n",
       "      <td>Functionally Accessible</td>\n",
       "      <td>1</td>\n",
       "      <td>Open to New York City residents</td>\n",
       "      <td>0</td>\n",
       "      <td>0</td>\n",
       "      <td>0</td>\n",
       "      <td>0</td>\n",
       "      <td>0</td>\n",
       "      <td>0</td>\n",
       "      <td>0</td>\n",
       "      <td>0</td>\n",
       "      <td>0</td>\n",
       "      <td>149-11 Melbourne Avenue\\nFlushing, NY 11367\\n(...</td>\n",
       "      <td>40.734408</td>\n",
       "      <td>-73.821417</td>\n",
       "      <td>25</td>\n",
       "    </tr>\n",
       "  </tbody>\n",
       "</table>\n",
       "<p>5 rows × 160 columns</p>\n",
       "</div>"
      ],
      "text/plain": [
       "        DBN                                        SCHOOL NAME  \\\n",
       "5    01M696                     BARD HIGH SCHOOL EARLY COLLEGE   \n",
       "26   02M416                      ELEANOR ROOSEVELT HIGH SCHOOL   \n",
       "60   03M479                                 BEACON HIGH SCHOOL   \n",
       "61   03M485  FIORELLO H. LAGUARDIA HIGH SCHOOL OF MUSIC & A...   \n",
       "302  25Q525                        TOWNSEND HARRIS HIGH SCHOOL   \n",
       "\n",
       "    Num of SAT Test Takers  SAT Critical Reading Avg. Score  \\\n",
       "5                      130                            624.0   \n",
       "26                     127                            572.0   \n",
       "60                     261                            577.0   \n",
       "61                     531                            566.0   \n",
       "302                    278                            621.0   \n",
       "\n",
       "     SAT Math Avg. Score  SAT Writing Avg. Score  sat_score  \\\n",
       "5                  604.0                   628.0     1856.0   \n",
       "26                 594.0                   592.0     1758.0   \n",
       "60                 575.0                   592.0     1744.0   \n",
       "61                 564.0                   577.0     1707.0   \n",
       "302                651.0                   638.0     1910.0   \n",
       "\n",
       "                        SchoolName  AP Test Takers   Total Exams Taken  \\\n",
       "5                                0       129.028846         197.038462   \n",
       "26   Eleanor Roosevelt High School       155.000000         235.000000   \n",
       "60                   BEACON SCHOOL       166.000000         197.000000   \n",
       "61         FIORELLO H.LAGUARDIA HS       691.000000        1236.000000   \n",
       "302             TOWNSEND HARRIS HS       613.000000         796.000000   \n",
       "\n",
       "     Number of Exams with scores 3 4 or 5   Demographic  \\\n",
       "5                                  153.45  Total Cohort   \n",
       "26                                 169.00  Total Cohort   \n",
       "60                                 140.00  Total Cohort   \n",
       "61                                 790.00  Total Cohort   \n",
       "302                                625.00  Total Cohort   \n",
       "\n",
       "                              School Name Cohort  Total Cohort  \\\n",
       "5          BARD HIGH SCHOOL EARLY COLLEGE   2006         139.0   \n",
       "26          ELEANOR ROOSEVELT HIGH SCHOOL   2006         127.0   \n",
       "60                     BEACON HIGH SCHOOL   2006         269.0   \n",
       "61   FIORELLO H. LAGUARDIA HIGH SCHOOL OF   2006         646.0   \n",
       "302           TOWNSEND HARRIS HIGH SCHOOL   2006         278.0   \n",
       "\n",
       "    Total Grads - n Total Grads - % of cohort Total Regents - n  \\\n",
       "5               134                     96.4%               134   \n",
       "26              127                      100%               126   \n",
       "60              259                     96.3%               247   \n",
       "61              627                     97.1%               621   \n",
       "302             278                      100%               278   \n",
       "\n",
       "    Total Regents - % of cohort Total Regents - % of grads  \\\n",
       "5                         96.4%                       100%   \n",
       "26                        99.2%                      99.2%   \n",
       "60                        91.8%                      95.4%   \n",
       "61                        96.1%                        99%   \n",
       "302                        100%                       100%   \n",
       "\n",
       "    Advanced Regents - n Advanced Regents - % of cohort  \\\n",
       "5                      0                             0%   \n",
       "26                   110                          86.6%   \n",
       "60                     0                             0%   \n",
       "61                   324                          50.2%   \n",
       "302                  271                          97.5%   \n",
       "\n",
       "    Advanced Regents - % of grads Regents w/o Advanced - n  \\\n",
       "5                              0%                      134   \n",
       "26                          86.6%                       16   \n",
       "60                             0%                      247   \n",
       "61                          51.7%                      297   \n",
       "302                         97.5%                        7   \n",
       "\n",
       "    Regents w/o Advanced - % of cohort  ...  \\\n",
       "5                                96.4%  ...   \n",
       "26                               12.6%  ...   \n",
       "60                               91.8%  ...   \n",
       "61                                 46%  ...   \n",
       "302                               2.5%  ...   \n",
       "\n",
       "                                     partner_corporate partner_financial  \\\n",
       "5                                                    0                 0   \n",
       "26                                                   0                 0   \n",
       "60                                                   0                 0   \n",
       "61   Sony Music, Warner Music Group, Capital Cities...                 0   \n",
       "302                   Bloomberg LLP, Con Edison, Intel                 0   \n",
       "\n",
       "                                         partner_other  \\\n",
       "5                         New York Academy of Sciences   \n",
       "26   Virtual High School - PTA-funded online enrich...   \n",
       "60                                                   0   \n",
       "61                                                   0   \n",
       "302                 Townsend Harris Alumni Association   \n",
       "\n",
       "                                           addtl_info1  \\\n",
       "5                                                    0   \n",
       "26                                                   0   \n",
       "60                  Chancellor’s Arts Endorsed Diploma   \n",
       "61                  Chancellor’s Arts Endorsed Diploma   \n",
       "302  Townsend Harris students take 8 academic subje...   \n",
       "\n",
       "                                           addtl_info2 start_time end_time  \\\n",
       "5                           Student Summer Orientation    9:00 AM  3:50 PM   \n",
       "26                       Community Service Requirement    8:30 AM  3:30 PM   \n",
       "60   Community Service Requirement, Our school requ...    8:00 AM  3:00 PM   \n",
       "61                                                   0    8:00 AM  4:00 PM   \n",
       "302                      Community Service Requirement    8:20 AM  3:00 PM   \n",
       "\n",
       "                                           se_services  ell_programs  \\\n",
       "5    This school will provide students with disabil...           ESL   \n",
       "26   This school will provide students with disabil...           ESL   \n",
       "60   This school will provide students with disabil...           ESL   \n",
       "61   This school will provide students with disabil...           ESL   \n",
       "302  This school will provide students with disabil...           ESL   \n",
       "\n",
       "     school_accessibility_description  number_programs  \\\n",
       "5         Not Functionally Accessible                1   \n",
       "26            Functionally Accessible                1   \n",
       "60            Functionally Accessible                1   \n",
       "61            Functionally Accessible                6   \n",
       "302           Functionally Accessible                1   \n",
       "\n",
       "                                       priority01  \\\n",
       "5                 Open to New York City residents   \n",
       "26   Priority to District 2 students or residents   \n",
       "60                Open to New York City residents   \n",
       "61                Open to New York City residents   \n",
       "302               Open to New York City residents   \n",
       "\n",
       "                                            priority02  \\\n",
       "5                                                    0   \n",
       "26             Then to Manhattan students or residents   \n",
       "60                                                   0   \n",
       "61   Admission is based on the outcome of a competi...   \n",
       "302                                                  0   \n",
       "\n",
       "                                            priority03  \\\n",
       "5                                                    0   \n",
       "26                     Then to New York City residents   \n",
       "60                                                   0   \n",
       "61   Students must audition for each program (studi...   \n",
       "302                                                  0   \n",
       "\n",
       "                                            priority04 priority05  priority06  \\\n",
       "5                                                    0          0           0   \n",
       "26                                                   0          0           0   \n",
       "60                                                   0          0           0   \n",
       "61   Students must be residents of New York City at...          0           0   \n",
       "302                                                  0          0           0   \n",
       "\n",
       "     priority07  priority08  priority09 priority10  \\\n",
       "5             0           0           0          0   \n",
       "26            0           0           0          0   \n",
       "60            0           0           0          0   \n",
       "61            0           0           0          0   \n",
       "302           0           0           0          0   \n",
       "\n",
       "                                            Location 1        lat        lon  \\\n",
       "5    525 East Houston Street\\nNew York, NY 10002\\n(...  40.718962 -73.976066   \n",
       "26   411 East 76 Street\\nNew York, NY 10021\\n(40.77...  40.770116 -73.953379   \n",
       "60   227-243 West 61St Street\\nNew York, NY 10023\\n...  40.772158 -73.987797   \n",
       "61   100 Amsterdam Avenue\\nNew York, NY 10023\\n(40....  40.773671 -73.985269   \n",
       "302  149-11 Melbourne Avenue\\nFlushing, NY 11367\\n(...  40.734408 -73.821417   \n",
       "\n",
       "    school_dist  \n",
       "5            01  \n",
       "26           02  \n",
       "60           03  \n",
       "61           03  \n",
       "302          25  \n",
       "\n",
       "[5 rows x 160 columns]"
      ]
     },
     "execution_count": 52,
     "metadata": {},
     "output_type": "execute_result"
    }
   ],
   "source": [
    "combined[(combined[\"female_per\"] > 60) & (combined[\"sat_score\"] > 1700)]"
   ]
  },
  {
   "cell_type": "markdown",
   "metadata": {},
   "source": [
    "Investigating the BARD HIGH SCHOOL EARLY COLLEGE, we can see that students are allowed to finish their high school studies early and to take college-level classes such that they can earn credit and even leave with an associate's degree in arts.  This model would explain why the school tend to have very high SAT scores."
   ]
  },
  {
   "cell_type": "code",
   "execution_count": 53,
   "metadata": {},
   "outputs": [
    {
     "data": {
      "text/plain": [
       "26    67.5\n",
       "Name: female_per, dtype: float64"
      ]
     },
     "execution_count": 53,
     "metadata": {},
     "output_type": "execute_result"
    }
   ],
   "source": [
    "combined[(combined[\"SCHOOL NAME\"]  == \"ELEANOR ROOSEVELT HIGH SCHOOL\")][\"female_per\"]"
   ]
  },
  {
   "cell_type": "markdown",
   "metadata": {},
   "source": [
    "However, we can also see that the percentage of female students isn't extremely high.  With such a large number of schools in our dataset, even if we would expect the average ratio of boys to girls to be around 1:1, it is not too surprising that there is a natural variation in the proportions."
   ]
  },
  {
   "cell_type": "markdown",
   "metadata": {},
   "source": [
    "Let's now investigate how the proportion of students who took Advanced Placement (AP) exams to earn college credit relates to the avarage SAT score.  We would expect students who take their education seriously and are working hard to achieve good good grades to do well on thier SATs and also to consider taking AP classes to prepare them for leaving high school and attending college.\n",
    "\n",
    "If we just looked at the absolute number of students taking AP classes, then we would in fact be biasing our analysis since the total number of students enrolled in a school is already correlated with SAT scores:"
   ]
  },
  {
   "cell_type": "code",
   "execution_count": 54,
   "metadata": {},
   "outputs": [
    {
     "data": {
      "text/plain": [
       "0.36785691698802886"
      ]
     },
     "execution_count": 54,
     "metadata": {},
     "output_type": "execute_result"
    }
   ],
   "source": [
    "correlations[\"total_enrollment\"]"
   ]
  },
  {
   "cell_type": "markdown",
   "metadata": {},
   "source": [
    "This correlation isn't huge, but it's worth trying to work around.  Hence we will use the proportion of students taking AP classes instead."
   ]
  },
  {
   "cell_type": "code",
   "execution_count": 58,
   "metadata": {},
   "outputs": [
    {
     "data": {
      "text/html": [
       "<div>\n",
       "<style scoped>\n",
       "    .dataframe tbody tr th:only-of-type {\n",
       "        vertical-align: middle;\n",
       "    }\n",
       "\n",
       "    .dataframe tbody tr th {\n",
       "        vertical-align: top;\n",
       "    }\n",
       "\n",
       "    .dataframe thead th {\n",
       "        text-align: right;\n",
       "    }\n",
       "</style>\n",
       "<table border=\"1\" class=\"dataframe\">\n",
       "  <thead>\n",
       "    <tr style=\"text-align: right;\">\n",
       "      <th></th>\n",
       "      <th>DBN</th>\n",
       "      <th>SCHOOL NAME</th>\n",
       "      <th>Num of SAT Test Takers</th>\n",
       "      <th>SAT Critical Reading Avg. Score</th>\n",
       "      <th>SAT Math Avg. Score</th>\n",
       "      <th>SAT Writing Avg. Score</th>\n",
       "      <th>sat_score</th>\n",
       "      <th>SchoolName</th>\n",
       "      <th>AP Test Takers</th>\n",
       "      <th>Total Exams Taken</th>\n",
       "      <th>Number of Exams with scores 3 4 or 5</th>\n",
       "      <th>Demographic</th>\n",
       "      <th>School Name</th>\n",
       "      <th>Cohort</th>\n",
       "      <th>Total Cohort</th>\n",
       "      <th>Total Grads - n</th>\n",
       "      <th>Total Grads - % of cohort</th>\n",
       "      <th>Total Regents - n</th>\n",
       "      <th>Total Regents - % of cohort</th>\n",
       "      <th>Total Regents - % of grads</th>\n",
       "      <th>Advanced Regents - n</th>\n",
       "      <th>Advanced Regents - % of cohort</th>\n",
       "      <th>Advanced Regents - % of grads</th>\n",
       "      <th>Regents w/o Advanced - n</th>\n",
       "      <th>Regents w/o Advanced - % of cohort</th>\n",
       "      <th>...</th>\n",
       "      <th>partner_financial</th>\n",
       "      <th>partner_other</th>\n",
       "      <th>addtl_info1</th>\n",
       "      <th>addtl_info2</th>\n",
       "      <th>start_time</th>\n",
       "      <th>end_time</th>\n",
       "      <th>se_services</th>\n",
       "      <th>ell_programs</th>\n",
       "      <th>school_accessibility_description</th>\n",
       "      <th>number_programs</th>\n",
       "      <th>priority01</th>\n",
       "      <th>priority02</th>\n",
       "      <th>priority03</th>\n",
       "      <th>priority04</th>\n",
       "      <th>priority05</th>\n",
       "      <th>priority06</th>\n",
       "      <th>priority07</th>\n",
       "      <th>priority08</th>\n",
       "      <th>priority09</th>\n",
       "      <th>priority10</th>\n",
       "      <th>Location 1</th>\n",
       "      <th>lat</th>\n",
       "      <th>lon</th>\n",
       "      <th>school_dist</th>\n",
       "      <th>ap_per</th>\n",
       "    </tr>\n",
       "  </thead>\n",
       "  <tbody>\n",
       "    <tr>\n",
       "      <th>0</th>\n",
       "      <td>01M292</td>\n",
       "      <td>HENRY STREET SCHOOL FOR INTERNATIONAL STUDIES</td>\n",
       "      <td>29</td>\n",
       "      <td>355.0</td>\n",
       "      <td>404.0</td>\n",
       "      <td>363.0</td>\n",
       "      <td>1122.0</td>\n",
       "      <td>0</td>\n",
       "      <td>129.028846</td>\n",
       "      <td>197.038462</td>\n",
       "      <td>153.45</td>\n",
       "      <td>Total Cohort</td>\n",
       "      <td>HENRY STREET SCHOOL FOR INTERNATIONAL</td>\n",
       "      <td>2006</td>\n",
       "      <td>78.0</td>\n",
       "      <td>43</td>\n",
       "      <td>55.1%</td>\n",
       "      <td>36</td>\n",
       "      <td>46.2%</td>\n",
       "      <td>83.7%</td>\n",
       "      <td>0</td>\n",
       "      <td>0%</td>\n",
       "      <td>0%</td>\n",
       "      <td>36</td>\n",
       "      <td>46.2%</td>\n",
       "      <td>...</td>\n",
       "      <td>0</td>\n",
       "      <td>United Nations</td>\n",
       "      <td>0</td>\n",
       "      <td>0</td>\n",
       "      <td>8:30 AM</td>\n",
       "      <td>3:30 PM</td>\n",
       "      <td>This school will provide students with disabil...</td>\n",
       "      <td>ESL</td>\n",
       "      <td>Functionally Accessible</td>\n",
       "      <td>1</td>\n",
       "      <td>Priority to continuing 8th graders</td>\n",
       "      <td>Then to Manhattan students or residents who at...</td>\n",
       "      <td>Then to New York City residents who attend an ...</td>\n",
       "      <td>Then to Manhattan students or residents</td>\n",
       "      <td>Then to New York City residents</td>\n",
       "      <td>0</td>\n",
       "      <td>0</td>\n",
       "      <td>0</td>\n",
       "      <td>0</td>\n",
       "      <td>0</td>\n",
       "      <td>220 Henry Street\\nNew York, NY 10002\\n(40.7137...</td>\n",
       "      <td>40.713764</td>\n",
       "      <td>-73.985260</td>\n",
       "      <td>01</td>\n",
       "      <td>30.575556</td>\n",
       "    </tr>\n",
       "    <tr>\n",
       "      <th>1</th>\n",
       "      <td>01M448</td>\n",
       "      <td>UNIVERSITY NEIGHBORHOOD HIGH SCHOOL</td>\n",
       "      <td>91</td>\n",
       "      <td>383.0</td>\n",
       "      <td>423.0</td>\n",
       "      <td>366.0</td>\n",
       "      <td>1172.0</td>\n",
       "      <td>UNIVERSITY NEIGHBORHOOD H.S.</td>\n",
       "      <td>39.000000</td>\n",
       "      <td>49.000000</td>\n",
       "      <td>10.00</td>\n",
       "      <td>Total Cohort</td>\n",
       "      <td>UNIVERSITY NEIGHBORHOOD HIGH SCHOOL</td>\n",
       "      <td>2006</td>\n",
       "      <td>124.0</td>\n",
       "      <td>53</td>\n",
       "      <td>42.7%</td>\n",
       "      <td>42</td>\n",
       "      <td>33.9%</td>\n",
       "      <td>79.2%</td>\n",
       "      <td>8</td>\n",
       "      <td>6.5%</td>\n",
       "      <td>15.1%</td>\n",
       "      <td>34</td>\n",
       "      <td>27.4%</td>\n",
       "      <td>...</td>\n",
       "      <td>0</td>\n",
       "      <td>Movement Research</td>\n",
       "      <td>Incoming students are expected to attend schoo...</td>\n",
       "      <td>Community Service Requirement, Dress Code Requ...</td>\n",
       "      <td>8:15 AM</td>\n",
       "      <td>3:15 PM</td>\n",
       "      <td>This school will provide students with disabil...</td>\n",
       "      <td>ESL</td>\n",
       "      <td>Not Functionally Accessible</td>\n",
       "      <td>3</td>\n",
       "      <td>Open to New York City residents</td>\n",
       "      <td>For M35B only: Open only to students whose hom...</td>\n",
       "      <td>0</td>\n",
       "      <td>0</td>\n",
       "      <td>0</td>\n",
       "      <td>0</td>\n",
       "      <td>0</td>\n",
       "      <td>0</td>\n",
       "      <td>0</td>\n",
       "      <td>0</td>\n",
       "      <td>200 Monroe Street\\nNew York, NY 10002\\n(40.712...</td>\n",
       "      <td>40.712332</td>\n",
       "      <td>-73.984797</td>\n",
       "      <td>01</td>\n",
       "      <td>9.898477</td>\n",
       "    </tr>\n",
       "    <tr>\n",
       "      <th>2</th>\n",
       "      <td>01M450</td>\n",
       "      <td>EAST SIDE COMMUNITY SCHOOL</td>\n",
       "      <td>70</td>\n",
       "      <td>377.0</td>\n",
       "      <td>402.0</td>\n",
       "      <td>370.0</td>\n",
       "      <td>1149.0</td>\n",
       "      <td>EAST SIDE COMMUNITY HS</td>\n",
       "      <td>19.000000</td>\n",
       "      <td>21.000000</td>\n",
       "      <td>153.45</td>\n",
       "      <td>Total Cohort</td>\n",
       "      <td>EAST SIDE COMMUNITY SCHOOL</td>\n",
       "      <td>2006</td>\n",
       "      <td>90.0</td>\n",
       "      <td>70</td>\n",
       "      <td>77.8%</td>\n",
       "      <td>67</td>\n",
       "      <td>74.400000000000006%</td>\n",
       "      <td>95.7%</td>\n",
       "      <td>0</td>\n",
       "      <td>0%</td>\n",
       "      <td>0%</td>\n",
       "      <td>67</td>\n",
       "      <td>74.400000000000006%</td>\n",
       "      <td>...</td>\n",
       "      <td>0</td>\n",
       "      <td>Brooklyn Boulders (Rock Climbing)</td>\n",
       "      <td>Students present and defend their work to comm...</td>\n",
       "      <td>Our school requires an Academic Portfolio for ...</td>\n",
       "      <td>8:30 AM</td>\n",
       "      <td>3:30 PM</td>\n",
       "      <td>This school will provide students with disabil...</td>\n",
       "      <td>ESL</td>\n",
       "      <td>Not Functionally Accessible</td>\n",
       "      <td>1</td>\n",
       "      <td>Priority to continuing 8th graders</td>\n",
       "      <td>Then to New York City residents</td>\n",
       "      <td>0</td>\n",
       "      <td>0</td>\n",
       "      <td>0</td>\n",
       "      <td>0</td>\n",
       "      <td>0</td>\n",
       "      <td>0</td>\n",
       "      <td>0</td>\n",
       "      <td>0</td>\n",
       "      <td>420 East 12 Street\\nNew York, NY 10009\\n(40.72...</td>\n",
       "      <td>40.729783</td>\n",
       "      <td>-73.983041</td>\n",
       "      <td>01</td>\n",
       "      <td>3.177258</td>\n",
       "    </tr>\n",
       "    <tr>\n",
       "      <th>3</th>\n",
       "      <td>01M509</td>\n",
       "      <td>MARTA VALLE HIGH SCHOOL</td>\n",
       "      <td>44</td>\n",
       "      <td>390.0</td>\n",
       "      <td>433.0</td>\n",
       "      <td>384.0</td>\n",
       "      <td>1207.0</td>\n",
       "      <td>0</td>\n",
       "      <td>129.028846</td>\n",
       "      <td>197.038462</td>\n",
       "      <td>153.45</td>\n",
       "      <td>Total Cohort</td>\n",
       "      <td>MARTA VALLE HIGH SCHOOL</td>\n",
       "      <td>2006</td>\n",
       "      <td>84.0</td>\n",
       "      <td>47</td>\n",
       "      <td>56%</td>\n",
       "      <td>40</td>\n",
       "      <td>47.6%</td>\n",
       "      <td>85.1%</td>\n",
       "      <td>17</td>\n",
       "      <td>20.2%</td>\n",
       "      <td>36.200000000000003%</td>\n",
       "      <td>23</td>\n",
       "      <td>27.4%</td>\n",
       "      <td>...</td>\n",
       "      <td>Bank of America</td>\n",
       "      <td>CASALEAP, Beacon</td>\n",
       "      <td>Students Dress for Success, Summer Bridge to S...</td>\n",
       "      <td>Community Service Requirement, Extended Day Pr...</td>\n",
       "      <td>8:00 AM</td>\n",
       "      <td>3:30 PM</td>\n",
       "      <td>This school will provide students with disabil...</td>\n",
       "      <td>ESL</td>\n",
       "      <td>Functionally Accessible</td>\n",
       "      <td>1</td>\n",
       "      <td>Priority to District 1 students or residents</td>\n",
       "      <td>Then to Manhattan students or residents</td>\n",
       "      <td>Then to New York City residents</td>\n",
       "      <td>0</td>\n",
       "      <td>0</td>\n",
       "      <td>0</td>\n",
       "      <td>0</td>\n",
       "      <td>0</td>\n",
       "      <td>0</td>\n",
       "      <td>0</td>\n",
       "      <td>145 Stanton Street\\nNew York, NY 10002\\n(40.72...</td>\n",
       "      <td>40.720569</td>\n",
       "      <td>-73.985673</td>\n",
       "      <td>01</td>\n",
       "      <td>35.157724</td>\n",
       "    </tr>\n",
       "    <tr>\n",
       "      <th>4</th>\n",
       "      <td>01M539</td>\n",
       "      <td>NEW EXPLORATIONS INTO SCIENCE, TECHNOLOGY AND ...</td>\n",
       "      <td>159</td>\n",
       "      <td>522.0</td>\n",
       "      <td>574.0</td>\n",
       "      <td>525.0</td>\n",
       "      <td>1621.0</td>\n",
       "      <td>NEW EXPLORATIONS SCI,TECH,MATH</td>\n",
       "      <td>255.000000</td>\n",
       "      <td>377.000000</td>\n",
       "      <td>191.00</td>\n",
       "      <td>Total Cohort</td>\n",
       "      <td>NEW EXPLORATIONS INTO SCIENCE  TECHNO</td>\n",
       "      <td>2006</td>\n",
       "      <td>46.0</td>\n",
       "      <td>46</td>\n",
       "      <td>100%</td>\n",
       "      <td>46</td>\n",
       "      <td>100%</td>\n",
       "      <td>100%</td>\n",
       "      <td>31</td>\n",
       "      <td>67.400000000000006%</td>\n",
       "      <td>67.400000000000006%</td>\n",
       "      <td>15</td>\n",
       "      <td>32.6%</td>\n",
       "      <td>...</td>\n",
       "      <td>0</td>\n",
       "      <td>0</td>\n",
       "      <td>Dress Code Required: Business Casual - shirt/b...</td>\n",
       "      <td>0</td>\n",
       "      <td>8:15 AM</td>\n",
       "      <td>4:00 PM</td>\n",
       "      <td>This school will provide students with disabil...</td>\n",
       "      <td>ESL</td>\n",
       "      <td>Not Functionally Accessible</td>\n",
       "      <td>1</td>\n",
       "      <td>Priority to continuing 8th graders</td>\n",
       "      <td>Then to New York City residents</td>\n",
       "      <td>0</td>\n",
       "      <td>0</td>\n",
       "      <td>0</td>\n",
       "      <td>0</td>\n",
       "      <td>0</td>\n",
       "      <td>0</td>\n",
       "      <td>0</td>\n",
       "      <td>0</td>\n",
       "      <td>111 Columbia Street\\nNew York, NY 10002\\n(40.7...</td>\n",
       "      <td>40.718725</td>\n",
       "      <td>-73.979426</td>\n",
       "      <td>01</td>\n",
       "      <td>15.809051</td>\n",
       "    </tr>\n",
       "  </tbody>\n",
       "</table>\n",
       "<p>5 rows × 161 columns</p>\n",
       "</div>"
      ],
      "text/plain": [
       "      DBN                                        SCHOOL NAME  \\\n",
       "0  01M292      HENRY STREET SCHOOL FOR INTERNATIONAL STUDIES   \n",
       "1  01M448                UNIVERSITY NEIGHBORHOOD HIGH SCHOOL   \n",
       "2  01M450                         EAST SIDE COMMUNITY SCHOOL   \n",
       "3  01M509                            MARTA VALLE HIGH SCHOOL   \n",
       "4  01M539  NEW EXPLORATIONS INTO SCIENCE, TECHNOLOGY AND ...   \n",
       "\n",
       "  Num of SAT Test Takers  SAT Critical Reading Avg. Score  \\\n",
       "0                     29                            355.0   \n",
       "1                     91                            383.0   \n",
       "2                     70                            377.0   \n",
       "3                     44                            390.0   \n",
       "4                    159                            522.0   \n",
       "\n",
       "   SAT Math Avg. Score  SAT Writing Avg. Score  sat_score  \\\n",
       "0                404.0                   363.0     1122.0   \n",
       "1                423.0                   366.0     1172.0   \n",
       "2                402.0                   370.0     1149.0   \n",
       "3                433.0                   384.0     1207.0   \n",
       "4                574.0                   525.0     1621.0   \n",
       "\n",
       "                       SchoolName  AP Test Takers   Total Exams Taken  \\\n",
       "0                               0       129.028846         197.038462   \n",
       "1    UNIVERSITY NEIGHBORHOOD H.S.        39.000000          49.000000   \n",
       "2          EAST SIDE COMMUNITY HS        19.000000          21.000000   \n",
       "3                               0       129.028846         197.038462   \n",
       "4  NEW EXPLORATIONS SCI,TECH,MATH       255.000000         377.000000   \n",
       "\n",
       "   Number of Exams with scores 3 4 or 5   Demographic  \\\n",
       "0                                153.45  Total Cohort   \n",
       "1                                 10.00  Total Cohort   \n",
       "2                                153.45  Total Cohort   \n",
       "3                                153.45  Total Cohort   \n",
       "4                                191.00  Total Cohort   \n",
       "\n",
       "                             School Name Cohort  Total Cohort Total Grads - n  \\\n",
       "0  HENRY STREET SCHOOL FOR INTERNATIONAL   2006          78.0              43   \n",
       "1    UNIVERSITY NEIGHBORHOOD HIGH SCHOOL   2006         124.0              53   \n",
       "2             EAST SIDE COMMUNITY SCHOOL   2006          90.0              70   \n",
       "3                MARTA VALLE HIGH SCHOOL   2006          84.0              47   \n",
       "4  NEW EXPLORATIONS INTO SCIENCE  TECHNO   2006          46.0              46   \n",
       "\n",
       "  Total Grads - % of cohort Total Regents - n Total Regents - % of cohort  \\\n",
       "0                     55.1%                36                       46.2%   \n",
       "1                     42.7%                42                       33.9%   \n",
       "2                     77.8%                67         74.400000000000006%   \n",
       "3                       56%                40                       47.6%   \n",
       "4                      100%                46                        100%   \n",
       "\n",
       "  Total Regents - % of grads Advanced Regents - n  \\\n",
       "0                      83.7%                    0   \n",
       "1                      79.2%                    8   \n",
       "2                      95.7%                    0   \n",
       "3                      85.1%                   17   \n",
       "4                       100%                   31   \n",
       "\n",
       "  Advanced Regents - % of cohort Advanced Regents - % of grads  \\\n",
       "0                             0%                            0%   \n",
       "1                           6.5%                         15.1%   \n",
       "2                             0%                            0%   \n",
       "3                          20.2%           36.200000000000003%   \n",
       "4            67.400000000000006%           67.400000000000006%   \n",
       "\n",
       "  Regents w/o Advanced - n Regents w/o Advanced - % of cohort  ...  \\\n",
       "0                       36                              46.2%  ...   \n",
       "1                       34                              27.4%  ...   \n",
       "2                       67                74.400000000000006%  ...   \n",
       "3                       23                              27.4%  ...   \n",
       "4                       15                              32.6%  ...   \n",
       "\n",
       "  partner_financial                      partner_other  \\\n",
       "0                 0                     United Nations   \n",
       "1                 0                  Movement Research   \n",
       "2                 0  Brooklyn Boulders (Rock Climbing)   \n",
       "3   Bank of America                   CASALEAP, Beacon   \n",
       "4                 0                                  0   \n",
       "\n",
       "                                         addtl_info1  \\\n",
       "0                                                  0   \n",
       "1  Incoming students are expected to attend schoo...   \n",
       "2  Students present and defend their work to comm...   \n",
       "3  Students Dress for Success, Summer Bridge to S...   \n",
       "4  Dress Code Required: Business Casual - shirt/b...   \n",
       "\n",
       "                                         addtl_info2 start_time end_time  \\\n",
       "0                                                  0    8:30 AM  3:30 PM   \n",
       "1  Community Service Requirement, Dress Code Requ...    8:15 AM  3:15 PM   \n",
       "2  Our school requires an Academic Portfolio for ...    8:30 AM  3:30 PM   \n",
       "3  Community Service Requirement, Extended Day Pr...    8:00 AM  3:30 PM   \n",
       "4                                                  0    8:15 AM  4:00 PM   \n",
       "\n",
       "                                         se_services ell_programs  \\\n",
       "0  This school will provide students with disabil...          ESL   \n",
       "1  This school will provide students with disabil...          ESL   \n",
       "2  This school will provide students with disabil...          ESL   \n",
       "3  This school will provide students with disabil...          ESL   \n",
       "4  This school will provide students with disabil...          ESL   \n",
       "\n",
       "   school_accessibility_description  number_programs  \\\n",
       "0           Functionally Accessible                1   \n",
       "1       Not Functionally Accessible                3   \n",
       "2       Not Functionally Accessible                1   \n",
       "3           Functionally Accessible                1   \n",
       "4       Not Functionally Accessible                1   \n",
       "\n",
       "                                     priority01  \\\n",
       "0            Priority to continuing 8th graders   \n",
       "1               Open to New York City residents   \n",
       "2            Priority to continuing 8th graders   \n",
       "3  Priority to District 1 students or residents   \n",
       "4            Priority to continuing 8th graders   \n",
       "\n",
       "                                          priority02  \\\n",
       "0  Then to Manhattan students or residents who at...   \n",
       "1  For M35B only: Open only to students whose hom...   \n",
       "2                    Then to New York City residents   \n",
       "3            Then to Manhattan students or residents   \n",
       "4                    Then to New York City residents   \n",
       "\n",
       "                                          priority03  \\\n",
       "0  Then to New York City residents who attend an ...   \n",
       "1                                                  0   \n",
       "2                                                  0   \n",
       "3                    Then to New York City residents   \n",
       "4                                                  0   \n",
       "\n",
       "                                priority04                       priority05  \\\n",
       "0  Then to Manhattan students or residents  Then to New York City residents   \n",
       "1                                        0                                0   \n",
       "2                                        0                                0   \n",
       "3                                        0                                0   \n",
       "4                                        0                                0   \n",
       "\n",
       "  priority06  priority07  priority08  priority09  priority10  \\\n",
       "0          0           0           0           0           0   \n",
       "1          0           0           0           0           0   \n",
       "2          0           0           0           0           0   \n",
       "3          0           0           0           0           0   \n",
       "4          0           0           0           0           0   \n",
       "\n",
       "                                          Location 1        lat        lon  \\\n",
       "0  220 Henry Street\\nNew York, NY 10002\\n(40.7137...  40.713764 -73.985260   \n",
       "1  200 Monroe Street\\nNew York, NY 10002\\n(40.712...  40.712332 -73.984797   \n",
       "2  420 East 12 Street\\nNew York, NY 10009\\n(40.72...  40.729783 -73.983041   \n",
       "3  145 Stanton Street\\nNew York, NY 10002\\n(40.72...  40.720569 -73.985673   \n",
       "4  111 Columbia Street\\nNew York, NY 10002\\n(40.7...  40.718725 -73.979426   \n",
       "\n",
       "  school_dist     ap_per  \n",
       "0          01  30.575556  \n",
       "1          01   9.898477  \n",
       "2          01   3.177258  \n",
       "3          01  35.157724  \n",
       "4          01  15.809051  \n",
       "\n",
       "[5 rows x 161 columns]"
      ]
     },
     "execution_count": 58,
     "metadata": {},
     "output_type": "execute_result"
    }
   ],
   "source": [
    "combined[\"ap_per\"] = combined[\"AP Test Takers \"] * 100 / combined[\"total_enrollment\"]\n",
    "combined.head()"
   ]
  },
  {
   "cell_type": "markdown",
   "metadata": {},
   "source": [
    "Weirdly enough, some of the student numbers in the data are not integers (eg the high school in the top row has 129.028846 AP Test Takers).  If this concerned us, we would look this up in the data dictionary to try and find out why this could be the case - but for now, let's just continue."
   ]
  },
  {
   "cell_type": "code",
   "execution_count": 63,
   "metadata": {},
   "outputs": [
    {
     "data": {
      "text/plain": [
       "<matplotlib.collections.PathCollection at 0x21da1cc8b88>"
      ]
     },
     "execution_count": 63,
     "metadata": {},
     "output_type": "execute_result"
    },
    {
     "data": {
      "text/plain": [
       "Text(0.5, 0, '%')"
      ]
     },
     "execution_count": 63,
     "metadata": {},
     "output_type": "execute_result"
    },
    {
     "data": {
      "text/plain": [
       "Text(-5, 2250, 'Average SAT score vs percentage\\nof students taking AP classes')"
      ]
     },
     "execution_count": 63,
     "metadata": {},
     "output_type": "execute_result"
    },
    {
     "data": {
      "text/plain": [
       "Text(-15, 500, '___________________________________________________________________')"
      ]
     },
     "execution_count": 63,
     "metadata": {},
     "output_type": "execute_result"
    },
    {
     "data": {
      "text/plain": [
       "Text(-15, 400, '© ANDREW HETHERINGTON   Source: National Center for Education Statistics   ')"
      ]
     },
     "execution_count": 63,
     "metadata": {},
     "output_type": "execute_result"
    },
    {
     "data": {
      "image/png": "[encoded data removed]",
      "text/plain": [
       "<Figure size 432x288 with 1 Axes>"
      ]
     },
     "metadata": {},
     "output_type": "display_data"
    }
   ],
   "source": [
    "fig, ax = plt.subplots()\n",
    "\n",
    "ax.scatter(combined[\"ap_per\"], combined[\"sat_score\"])\n",
    "\n",
    "ax.set_xlabel(\"%\", labelpad=10)\n",
    "\n",
    "# ax.set_ylabel(\"Average SAT score\", labelpad=10)\n",
    "\n",
    "ax.text(x = -5, y = 2250, s = \"Average SAT score vs percentage\\nof students taking AP classes\",\n",
    "               fontsize = 21, weight = 'bold', alpha = .75)\n",
    "\n",
    "ax.text(x = -15, y = 500,\n",
    "    s = '___________________________________________________________________',\n",
    "    color = 'grey', alpha = .7)\n",
    "\n",
    "ax.text(x = -15, y = 400,\n",
    "    s = '© ANDREW HETHERINGTON   Source: National Center for Education Statistics   ',\n",
    "    fontsize = 12, color = 'grey', alpha = .7)"
   ]
  },
  {
   "cell_type": "code",
   "execution_count": 64,
   "metadata": {},
   "outputs": [
    {
     "data": {
      "text/plain": [
       "0.057170813907669635"
      ]
     },
     "execution_count": 64,
     "metadata": {},
     "output_type": "execute_result"
    }
   ],
   "source": [
    "correlations = combined.corr()\n",
    "correlations = correlations[\"sat_score\"]\n",
    "correlations[\"ap_per\"]"
   ]
  },
  {
   "cell_type": "markdown",
   "metadata": {},
   "source": [
    "Interestingly enough, there's effectively no correlation between SAT scores and the percentage of students taking AP classes in our data.  This is evidenced by the correlation coefficient being very close to zero and by the lack of pattern in the scattter graph above."
   ]
  },
  {
   "cell_type": "markdown",
   "metadata": {},
   "source": [
    "# Conclusions\n",
    "\n",
    "We investigated the SAT scores of various New York City schools and what factors corrlated with them.  We found:\n",
    "\n",
    "- Proportion of male and female students does not correlate with average SAT scores\n",
    "- Proportion of students taking AP classes does not correlate with average SAT scores\n",
    "- There may be evidence to suggest that racial demographics correlate with SAT scores, although more rigourous statistical analysis is needed to make any kind of conclusions\n",
    "- Using the results of a student/parent/teacher survey, the variables that correlate most strongly with SAT scores are:\n",
    "    - number of repondents (potentially a proxy for school size, depending on how uniform response rates are across our schools)\n",
    "    - a score measuring the safety and respect within the school\n",
    "    - a score measuring the academic expectations of students."
   ]
  }
 ],
 "metadata": {
  "kernelspec": {
   "display_name": "Python 3",
   "language": "python",
   "name": "python3"
  },
  "language_info": {
   "codemirror_mode": {
    "name": "ipython",
    "version": 3
   },
   "file_extension": ".py",
   "mimetype": "text/x-python",
   "name": "python",
   "nbconvert_exporter": "python",
   "pygments_lexer": "ipython3",
   "version": "3.7.5"
  }
 },
 "nbformat": 4,
 "nbformat_minor": 2
}
