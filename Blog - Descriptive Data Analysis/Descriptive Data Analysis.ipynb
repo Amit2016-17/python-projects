{
 "cells": [
  {
   "cell_type": "markdown",
   "metadata": {},
   "source": [
    "# The Power of Descriptive Data Analysis\n",
    "\n",
    "### Andrew Hetherington, 2nd May 2020"
   ]
  },
  {
   "cell_type": "markdown",
   "metadata": {},
   "source": [
    "You've probably heard at some point that humans are incredibly good at detecting patterns in the environment.  And that's true - for thousands of years, our brains have been making inferences and predictions based on observed data.  \n",
    "\n",
    "To illustrate: Gerald, a Palaeolithic caveperson, has met a sample of wild tigers that have all tried to have him for dinner.  Gerald makes an inference about the population of wild tigers and concludes that he should probably steer clear of wild tigers in the future.  \n",
    "\n",
    "<img src=\"imgonline-com-ua-FrameBlurred-HOVElqNSEhYnC7L.jpg\" style=\"width:200px;height:150px\"/>\n",
    "\n",
    "Go find another snack, buddy!\n",
    "\n",
    "Although data analysis might not be a matter of life and death for us nowadays as it was for our prehistoric counterparts, it can make the difference between success and failure for a firm.  If a company can't produce goods or services that are 1) relevant to and 2) evolve with consumer tastes over time, it's only a matter of time before it gets overtaken by its competitors and finds itself with a dwindling revenue stream.  \n",
    "\n",
    "The biggest and most profitable companies aren't those with the best marketing strategy.  They aren't necessarily those with the most sophisticated, high-end product.  They're the companies that have best collected and leveraged data to inform their strategic decisions and to outmanoeuvre their rivals by staying ahead of the curve with their offerings.  It's hard not to recognise the role and importance of data in modern industry.  But what exactly do these companies do with all this data and what are the processes for extracting that all-important, market-beating insight?\n",
    "\n",
    "## The low-down\n",
    "\n",
    "The details and methods used as part of the analysis depend on its purpose.  Perhaps we have a brand new dataset and we want to get a sense of its features; explore potential patterns and trends and find a way of visualising that data that best reveals them.  Perhaps we want to try and infer something about a population from a sample that we’ve collected.  Or maybe we want to take a set of past observations and somehow extract some information from them that will allow us to better predict the future.\n",
    "Let’s find out a bit more about these types of data analysis by visiting each of them in turn.  In this post, we’ll focus on _descriptive_ data analysis – before following up later on the subjects of _inferential_ and _predictive_ data analysis.\n",
    "\n",
    "## Explaining with an example\n",
    "\n",
    "Words can only go so far to explain.  Let's pick a very simple dataset and actually _do_ an descriptive data analysis on it to better illustrate some of the ideas we're going to talk about.  We'll use a classic dataset containing the measurements of 150  iris flowers belonging to three different species.  This data was collected by American botanist Edgar Anderson in 1935.  If you want to follow along and explore yourself, you can download R and load the _datasets_ package to get easy access to this dataset.\n",
    "\n",
    "<img src=\"imgonline-com-ua-FrameBlurred-XFIYHebEtna6wEPt.jpg\" style=\"width:400px;height:500px\"/>"
   ]
  },
  {
   "cell_type": "code",
   "execution_count": 42,
   "metadata": {},
   "outputs": [
    {
     "data": {
      "text/html": [
       "<table>\n",
       "<thead><tr><th scope=col>Sepal.Length</th><th scope=col>Sepal.Width</th><th scope=col>Petal.Length</th><th scope=col>Petal.Width</th><th scope=col>Species</th></tr></thead>\n",
       "<tbody>\n",
       "\t<tr><td>5.1   </td><td>3.5   </td><td>1.4   </td><td>0.2   </td><td>setosa</td></tr>\n",
       "\t<tr><td>4.9   </td><td>3.0   </td><td>1.4   </td><td>0.2   </td><td>setosa</td></tr>\n",
       "\t<tr><td>4.7   </td><td>3.2   </td><td>1.3   </td><td>0.2   </td><td>setosa</td></tr>\n",
       "\t<tr><td>4.6   </td><td>3.1   </td><td>1.5   </td><td>0.2   </td><td>setosa</td></tr>\n",
       "\t<tr><td>5.0   </td><td>3.6   </td><td>1.4   </td><td>0.2   </td><td>setosa</td></tr>\n",
       "\t<tr><td>5.4   </td><td>3.9   </td><td>1.7   </td><td>0.4   </td><td>setosa</td></tr>\n",
       "</tbody>\n",
       "</table>\n"
      ],
      "text/latex": [
       "\\begin{tabular}{r|lllll}\n",
       " Sepal.Length & Sepal.Width & Petal.Length & Petal.Width & Species\\\\\n",
       "\\hline\n",
       "\t 5.1    & 3.5    & 1.4    & 0.2    & setosa\\\\\n",
       "\t 4.9    & 3.0    & 1.4    & 0.2    & setosa\\\\\n",
       "\t 4.7    & 3.2    & 1.3    & 0.2    & setosa\\\\\n",
       "\t 4.6    & 3.1    & 1.5    & 0.2    & setosa\\\\\n",
       "\t 5.0    & 3.6    & 1.4    & 0.2    & setosa\\\\\n",
       "\t 5.4    & 3.9    & 1.7    & 0.4    & setosa\\\\\n",
       "\\end{tabular}\n"
      ],
      "text/markdown": [
       "\n",
       "| Sepal.Length | Sepal.Width | Petal.Length | Petal.Width | Species |\n",
       "|---|---|---|---|---|\n",
       "| 5.1    | 3.5    | 1.4    | 0.2    | setosa |\n",
       "| 4.9    | 3.0    | 1.4    | 0.2    | setosa |\n",
       "| 4.7    | 3.2    | 1.3    | 0.2    | setosa |\n",
       "| 4.6    | 3.1    | 1.5    | 0.2    | setosa |\n",
       "| 5.0    | 3.6    | 1.4    | 0.2    | setosa |\n",
       "| 5.4    | 3.9    | 1.7    | 0.4    | setosa |\n",
       "\n"
      ],
      "text/plain": [
       "  Sepal.Length Sepal.Width Petal.Length Petal.Width Species\n",
       "1 5.1          3.5         1.4          0.2         setosa \n",
       "2 4.9          3.0         1.4          0.2         setosa \n",
       "3 4.7          3.2         1.3          0.2         setosa \n",
       "4 4.6          3.1         1.5          0.2         setosa \n",
       "5 5.0          3.6         1.4          0.2         setosa \n",
       "6 5.4          3.9         1.7          0.4         setosa "
      ]
     },
     "metadata": {},
     "output_type": "display_data"
    }
   ],
   "source": [
    "# Load datasets package\n",
    "library(datasets)\n",
    "\n",
    "# Display first few rows of iris dataset\n",
    "head(iris)"
   ]
  },
  {
   "cell_type": "markdown",
   "metadata": {},
   "source": [
    "Descriptive data analysis aims to present data in a way that _exposes its underlying trends and patterns_.  It’s often the first step in a more complex analysis, and no wonder – if you can’t summarise and understand your data, what business do you have trying to apply more complicated tools?\n",
    "\n",
    "This kind of analysis usually includes some discussion of:\n",
    "\n",
    "1. **measures of central tendency.**  This includes statistics like the mean, median and mode.  This can help us get a sense of what the typical or “average” data values are.\n",
    "\n",
    "2. **measures of spread.**  Perhaps less obvious than the first; the spread of the data is just as important.  With these statistics, we can understand more about the distribution of the data – is it concentrated over a small range or is it spread out?  Is it bunched up at either end?\n",
    "\n",
    "### Measures of central tendancy\n",
    "\n",
    "Let's consider the _sepal widths_ in our data.  Sepals are the petal-like structues that protect and support the petals of a flower, typically green.  What kind of values do sepal widths usually take?"
   ]
  },
  {
   "cell_type": "code",
   "execution_count": 43,
   "metadata": {},
   "outputs": [
    {
     "data": {
      "text/html": [
       "<ol class=list-inline>\n",
       "\t<li>3.5</li>\n",
       "\t<li>3</li>\n",
       "\t<li>3.2</li>\n",
       "\t<li>3.1</li>\n",
       "\t<li>3.6</li>\n",
       "\t<li>3.9</li>\n",
       "\t<li>3.4</li>\n",
       "\t<li>3.4</li>\n",
       "\t<li>2.9</li>\n",
       "\t<li>3.1</li>\n",
       "\t<li>3.7</li>\n",
       "\t<li>3.4</li>\n",
       "\t<li>3</li>\n",
       "\t<li>3</li>\n",
       "\t<li>4</li>\n",
       "\t<li>4.4</li>\n",
       "\t<li>3.9</li>\n",
       "\t<li>3.5</li>\n",
       "\t<li>3.8</li>\n",
       "\t<li>3.8</li>\n",
       "\t<li>3.4</li>\n",
       "\t<li>3.7</li>\n",
       "\t<li>3.6</li>\n",
       "\t<li>3.3</li>\n",
       "\t<li>3.4</li>\n",
       "\t<li>3</li>\n",
       "\t<li>3.4</li>\n",
       "\t<li>3.5</li>\n",
       "\t<li>3.4</li>\n",
       "\t<li>3.2</li>\n",
       "\t<li>3.1</li>\n",
       "\t<li>3.4</li>\n",
       "\t<li>4.1</li>\n",
       "\t<li>4.2</li>\n",
       "\t<li>3.1</li>\n",
       "\t<li>3.2</li>\n",
       "\t<li>3.5</li>\n",
       "\t<li>3.6</li>\n",
       "\t<li>3</li>\n",
       "\t<li>3.4</li>\n",
       "\t<li>3.5</li>\n",
       "\t<li>2.3</li>\n",
       "\t<li>3.2</li>\n",
       "\t<li>3.5</li>\n",
       "\t<li>3.8</li>\n",
       "\t<li>3</li>\n",
       "\t<li>3.8</li>\n",
       "\t<li>3.2</li>\n",
       "\t<li>3.7</li>\n",
       "\t<li>3.3</li>\n",
       "\t<li>3.2</li>\n",
       "\t<li>3.2</li>\n",
       "\t<li>3.1</li>\n",
       "\t<li>2.3</li>\n",
       "\t<li>2.8</li>\n",
       "\t<li>2.8</li>\n",
       "\t<li>3.3</li>\n",
       "\t<li>2.4</li>\n",
       "\t<li>2.9</li>\n",
       "\t<li>2.7</li>\n",
       "\t<li>2</li>\n",
       "\t<li>3</li>\n",
       "\t<li>2.2</li>\n",
       "\t<li>2.9</li>\n",
       "\t<li>2.9</li>\n",
       "\t<li>3.1</li>\n",
       "\t<li>3</li>\n",
       "\t<li>2.7</li>\n",
       "\t<li>2.2</li>\n",
       "\t<li>2.5</li>\n",
       "\t<li>3.2</li>\n",
       "\t<li>2.8</li>\n",
       "\t<li>2.5</li>\n",
       "\t<li>2.8</li>\n",
       "\t<li>2.9</li>\n",
       "\t<li>3</li>\n",
       "\t<li>2.8</li>\n",
       "\t<li>3</li>\n",
       "\t<li>2.9</li>\n",
       "\t<li>2.6</li>\n",
       "\t<li>2.4</li>\n",
       "\t<li>2.4</li>\n",
       "\t<li>2.7</li>\n",
       "\t<li>2.7</li>\n",
       "\t<li>3</li>\n",
       "\t<li>3.4</li>\n",
       "\t<li>3.1</li>\n",
       "\t<li>2.3</li>\n",
       "\t<li>3</li>\n",
       "\t<li>2.5</li>\n",
       "\t<li>2.6</li>\n",
       "\t<li>3</li>\n",
       "\t<li>2.6</li>\n",
       "\t<li>2.3</li>\n",
       "\t<li>2.7</li>\n",
       "\t<li>3</li>\n",
       "\t<li>2.9</li>\n",
       "\t<li>2.9</li>\n",
       "\t<li>2.5</li>\n",
       "\t<li>2.8</li>\n",
       "\t<li>3.3</li>\n",
       "\t<li>2.7</li>\n",
       "\t<li>3</li>\n",
       "\t<li>2.9</li>\n",
       "\t<li>3</li>\n",
       "\t<li>3</li>\n",
       "\t<li>2.5</li>\n",
       "\t<li>2.9</li>\n",
       "\t<li>2.5</li>\n",
       "\t<li>3.6</li>\n",
       "\t<li>3.2</li>\n",
       "\t<li>2.7</li>\n",
       "\t<li>3</li>\n",
       "\t<li>2.5</li>\n",
       "\t<li>2.8</li>\n",
       "\t<li>3.2</li>\n",
       "\t<li>3</li>\n",
       "\t<li>3.8</li>\n",
       "\t<li>2.6</li>\n",
       "\t<li>2.2</li>\n",
       "\t<li>3.2</li>\n",
       "\t<li>2.8</li>\n",
       "\t<li>2.8</li>\n",
       "\t<li>2.7</li>\n",
       "\t<li>3.3</li>\n",
       "\t<li>3.2</li>\n",
       "\t<li>2.8</li>\n",
       "\t<li>3</li>\n",
       "\t<li>2.8</li>\n",
       "\t<li>3</li>\n",
       "\t<li>2.8</li>\n",
       "\t<li>3.8</li>\n",
       "\t<li>2.8</li>\n",
       "\t<li>2.8</li>\n",
       "\t<li>2.6</li>\n",
       "\t<li>3</li>\n",
       "\t<li>3.4</li>\n",
       "\t<li>3.1</li>\n",
       "\t<li>3</li>\n",
       "\t<li>3.1</li>\n",
       "\t<li>3.1</li>\n",
       "\t<li>3.1</li>\n",
       "\t<li>2.7</li>\n",
       "\t<li>3.2</li>\n",
       "\t<li>3.3</li>\n",
       "\t<li>3</li>\n",
       "\t<li>2.5</li>\n",
       "\t<li>3</li>\n",
       "\t<li>3.4</li>\n",
       "\t<li>3</li>\n",
       "</ol>\n"
      ],
      "text/latex": [
       "\\begin{enumerate*}\n",
       "\\item 3.5\n",
       "\\item 3\n",
       "\\item 3.2\n",
       "\\item 3.1\n",
       "\\item 3.6\n",
       "\\item 3.9\n",
       "\\item 3.4\n",
       "\\item 3.4\n",
       "\\item 2.9\n",
       "\\item 3.1\n",
       "\\item 3.7\n",
       "\\item 3.4\n",
       "\\item 3\n",
       "\\item 3\n",
       "\\item 4\n",
       "\\item 4.4\n",
       "\\item 3.9\n",
       "\\item 3.5\n",
       "\\item 3.8\n",
       "\\item 3.8\n",
       "\\item 3.4\n",
       "\\item 3.7\n",
       "\\item 3.6\n",
       "\\item 3.3\n",
       "\\item 3.4\n",
       "\\item 3\n",
       "\\item 3.4\n",
       "\\item 3.5\n",
       "\\item 3.4\n",
       "\\item 3.2\n",
       "\\item 3.1\n",
       "\\item 3.4\n",
       "\\item 4.1\n",
       "\\item 4.2\n",
       "\\item 3.1\n",
       "\\item 3.2\n",
       "\\item 3.5\n",
       "\\item 3.6\n",
       "\\item 3\n",
       "\\item 3.4\n",
       "\\item 3.5\n",
       "\\item 2.3\n",
       "\\item 3.2\n",
       "\\item 3.5\n",
       "\\item 3.8\n",
       "\\item 3\n",
       "\\item 3.8\n",
       "\\item 3.2\n",
       "\\item 3.7\n",
       "\\item 3.3\n",
       "\\item 3.2\n",
       "\\item 3.2\n",
       "\\item 3.1\n",
       "\\item 2.3\n",
       "\\item 2.8\n",
       "\\item 2.8\n",
       "\\item 3.3\n",
       "\\item 2.4\n",
       "\\item 2.9\n",
       "\\item 2.7\n",
       "\\item 2\n",
       "\\item 3\n",
       "\\item 2.2\n",
       "\\item 2.9\n",
       "\\item 2.9\n",
       "\\item 3.1\n",
       "\\item 3\n",
       "\\item 2.7\n",
       "\\item 2.2\n",
       "\\item 2.5\n",
       "\\item 3.2\n",
       "\\item 2.8\n",
       "\\item 2.5\n",
       "\\item 2.8\n",
       "\\item 2.9\n",
       "\\item 3\n",
       "\\item 2.8\n",
       "\\item 3\n",
       "\\item 2.9\n",
       "\\item 2.6\n",
       "\\item 2.4\n",
       "\\item 2.4\n",
       "\\item 2.7\n",
       "\\item 2.7\n",
       "\\item 3\n",
       "\\item 3.4\n",
       "\\item 3.1\n",
       "\\item 2.3\n",
       "\\item 3\n",
       "\\item 2.5\n",
       "\\item 2.6\n",
       "\\item 3\n",
       "\\item 2.6\n",
       "\\item 2.3\n",
       "\\item 2.7\n",
       "\\item 3\n",
       "\\item 2.9\n",
       "\\item 2.9\n",
       "\\item 2.5\n",
       "\\item 2.8\n",
       "\\item 3.3\n",
       "\\item 2.7\n",
       "\\item 3\n",
       "\\item 2.9\n",
       "\\item 3\n",
       "\\item 3\n",
       "\\item 2.5\n",
       "\\item 2.9\n",
       "\\item 2.5\n",
       "\\item 3.6\n",
       "\\item 3.2\n",
       "\\item 2.7\n",
       "\\item 3\n",
       "\\item 2.5\n",
       "\\item 2.8\n",
       "\\item 3.2\n",
       "\\item 3\n",
       "\\item 3.8\n",
       "\\item 2.6\n",
       "\\item 2.2\n",
       "\\item 3.2\n",
       "\\item 2.8\n",
       "\\item 2.8\n",
       "\\item 2.7\n",
       "\\item 3.3\n",
       "\\item 3.2\n",
       "\\item 2.8\n",
       "\\item 3\n",
       "\\item 2.8\n",
       "\\item 3\n",
       "\\item 2.8\n",
       "\\item 3.8\n",
       "\\item 2.8\n",
       "\\item 2.8\n",
       "\\item 2.6\n",
       "\\item 3\n",
       "\\item 3.4\n",
       "\\item 3.1\n",
       "\\item 3\n",
       "\\item 3.1\n",
       "\\item 3.1\n",
       "\\item 3.1\n",
       "\\item 2.7\n",
       "\\item 3.2\n",
       "\\item 3.3\n",
       "\\item 3\n",
       "\\item 2.5\n",
       "\\item 3\n",
       "\\item 3.4\n",
       "\\item 3\n",
       "\\end{enumerate*}\n"
      ],
      "text/markdown": [
       "1. 3.5\n",
       "2. 3\n",
       "3. 3.2\n",
       "4. 3.1\n",
       "5. 3.6\n",
       "6. 3.9\n",
       "7. 3.4\n",
       "8. 3.4\n",
       "9. 2.9\n",
       "10. 3.1\n",
       "11. 3.7\n",
       "12. 3.4\n",
       "13. 3\n",
       "14. 3\n",
       "15. 4\n",
       "16. 4.4\n",
       "17. 3.9\n",
       "18. 3.5\n",
       "19. 3.8\n",
       "20. 3.8\n",
       "21. 3.4\n",
       "22. 3.7\n",
       "23. 3.6\n",
       "24. 3.3\n",
       "25. 3.4\n",
       "26. 3\n",
       "27. 3.4\n",
       "28. 3.5\n",
       "29. 3.4\n",
       "30. 3.2\n",
       "31. 3.1\n",
       "32. 3.4\n",
       "33. 4.1\n",
       "34. 4.2\n",
       "35. 3.1\n",
       "36. 3.2\n",
       "37. 3.5\n",
       "38. 3.6\n",
       "39. 3\n",
       "40. 3.4\n",
       "41. 3.5\n",
       "42. 2.3\n",
       "43. 3.2\n",
       "44. 3.5\n",
       "45. 3.8\n",
       "46. 3\n",
       "47. 3.8\n",
       "48. 3.2\n",
       "49. 3.7\n",
       "50. 3.3\n",
       "51. 3.2\n",
       "52. 3.2\n",
       "53. 3.1\n",
       "54. 2.3\n",
       "55. 2.8\n",
       "56. 2.8\n",
       "57. 3.3\n",
       "58. 2.4\n",
       "59. 2.9\n",
       "60. 2.7\n",
       "61. 2\n",
       "62. 3\n",
       "63. 2.2\n",
       "64. 2.9\n",
       "65. 2.9\n",
       "66. 3.1\n",
       "67. 3\n",
       "68. 2.7\n",
       "69. 2.2\n",
       "70. 2.5\n",
       "71. 3.2\n",
       "72. 2.8\n",
       "73. 2.5\n",
       "74. 2.8\n",
       "75. 2.9\n",
       "76. 3\n",
       "77. 2.8\n",
       "78. 3\n",
       "79. 2.9\n",
       "80. 2.6\n",
       "81. 2.4\n",
       "82. 2.4\n",
       "83. 2.7\n",
       "84. 2.7\n",
       "85. 3\n",
       "86. 3.4\n",
       "87. 3.1\n",
       "88. 2.3\n",
       "89. 3\n",
       "90. 2.5\n",
       "91. 2.6\n",
       "92. 3\n",
       "93. 2.6\n",
       "94. 2.3\n",
       "95. 2.7\n",
       "96. 3\n",
       "97. 2.9\n",
       "98. 2.9\n",
       "99. 2.5\n",
       "100. 2.8\n",
       "101. 3.3\n",
       "102. 2.7\n",
       "103. 3\n",
       "104. 2.9\n",
       "105. 3\n",
       "106. 3\n",
       "107. 2.5\n",
       "108. 2.9\n",
       "109. 2.5\n",
       "110. 3.6\n",
       "111. 3.2\n",
       "112. 2.7\n",
       "113. 3\n",
       "114. 2.5\n",
       "115. 2.8\n",
       "116. 3.2\n",
       "117. 3\n",
       "118. 3.8\n",
       "119. 2.6\n",
       "120. 2.2\n",
       "121. 3.2\n",
       "122. 2.8\n",
       "123. 2.8\n",
       "124. 2.7\n",
       "125. 3.3\n",
       "126. 3.2\n",
       "127. 2.8\n",
       "128. 3\n",
       "129. 2.8\n",
       "130. 3\n",
       "131. 2.8\n",
       "132. 3.8\n",
       "133. 2.8\n",
       "134. 2.8\n",
       "135. 2.6\n",
       "136. 3\n",
       "137. 3.4\n",
       "138. 3.1\n",
       "139. 3\n",
       "140. 3.1\n",
       "141. 3.1\n",
       "142. 3.1\n",
       "143. 2.7\n",
       "144. 3.2\n",
       "145. 3.3\n",
       "146. 3\n",
       "147. 2.5\n",
       "148. 3\n",
       "149. 3.4\n",
       "150. 3\n",
       "\n",
       "\n"
      ],
      "text/plain": [
       "  [1] 3.5 3.0 3.2 3.1 3.6 3.9 3.4 3.4 2.9 3.1 3.7 3.4 3.0 3.0 4.0 4.4 3.9 3.5\n",
       " [19] 3.8 3.8 3.4 3.7 3.6 3.3 3.4 3.0 3.4 3.5 3.4 3.2 3.1 3.4 4.1 4.2 3.1 3.2\n",
       " [37] 3.5 3.6 3.0 3.4 3.5 2.3 3.2 3.5 3.8 3.0 3.8 3.2 3.7 3.3 3.2 3.2 3.1 2.3\n",
       " [55] 2.8 2.8 3.3 2.4 2.9 2.7 2.0 3.0 2.2 2.9 2.9 3.1 3.0 2.7 2.2 2.5 3.2 2.8\n",
       " [73] 2.5 2.8 2.9 3.0 2.8 3.0 2.9 2.6 2.4 2.4 2.7 2.7 3.0 3.4 3.1 2.3 3.0 2.5\n",
       " [91] 2.6 3.0 2.6 2.3 2.7 3.0 2.9 2.9 2.5 2.8 3.3 2.7 3.0 2.9 3.0 3.0 2.5 2.9\n",
       "[109] 2.5 3.6 3.2 2.7 3.0 2.5 2.8 3.2 3.0 3.8 2.6 2.2 3.2 2.8 2.8 2.7 3.3 3.2\n",
       "[127] 2.8 3.0 2.8 3.0 2.8 3.8 2.8 2.8 2.6 3.0 3.4 3.1 3.0 3.1 3.1 3.1 2.7 3.2\n",
       "[145] 3.3 3.0 2.5 3.0 3.4 3.0"
      ]
     },
     "metadata": {},
     "output_type": "display_data"
    }
   ],
   "source": [
    "iris$Sepal.Width"
   ]
  },
  {
   "cell_type": "markdown",
   "metadata": {},
   "source": [
    "Whoa, that's kind of hard to take in - and this is a tiny dataset compared to what we'll encounter in the future!  It looks like the widths range from 2cm to 4cm, but it's not easy to tell what values are the most common and what the typical value is.  Let's make a plot to visualise the distribution of the _sepal widths_ and plot on the _mean_ value."
   ]
  },
  {
   "cell_type": "code",
   "execution_count": 44,
   "metadata": {},
   "outputs": [
    {
     "data": {
      "text/html": [
       "3.05733333333333"
      ],
      "text/latex": [
       "3.05733333333333"
      ],
      "text/markdown": [
       "3.05733333333333"
      ],
      "text/plain": [
       "[1] 3.057333"
      ]
     },
     "metadata": {},
     "output_type": "display_data"
    },
    {
     "data": {
      "text/html": [
       "3"
      ],
      "text/latex": [
       "3"
      ],
      "text/markdown": [
       "3"
      ],
      "text/plain": [
       "[1] 3"
      ]
     },
     "metadata": {},
     "output_type": "display_data"
    }
   ],
   "source": [
    "# Calculate mean value of sepal widths\n",
    "mean(iris$Sepal.Width)\n",
    "\n",
    "# Calculate median value of sepal widths\n",
    "median(iris$Sepal.Width)"
   ]
  },
  {
   "cell_type": "code",
   "execution_count": 45,
   "metadata": {},
   "outputs": [
    {
     "data": {
      "image/png": "[encoded data removed]",
      "text/plain": [
       "Plot with title \"Histogram of sepal width for 150 irises\""
      ]
     },
     "metadata": {},
     "output_type": "display_data"
    }
   ],
   "source": [
    "# Set plot window size\n",
    "options(repr.plot.width=6, repr.plot.height=4)\n",
    "\n",
    "# Plot histogram of sepal widths\n",
    "hist(iris$Sepal.Width, main=\"Histogram of sepal width for 150 irises\", \n",
    "     col=\"slateblue1\", xlab=\"Sepal width (cm)\")\n",
    "\n",
    "# Plot a vertical line at the mean value\n",
    "abline(v=mean(iris$Sepal.Width), col=\"red\")\n",
    "\n",
    "# Label the mean value line\n",
    "text(3.35,35,\"Mean = 3.06\",col=\"red\")"
   ]
  },
  {
   "cell_type": "markdown",
   "metadata": {},
   "source": [
    "They say a picture is worth a thousand words and it's doubly true for data.\n",
    "\n",
    "- The mean value is 3.06;\n",
    "- the median (middle) value is 3; and\n",
    "- we can see that the modal range of values (the most commonly observed values) is between 2.8 and 3.0. \n",
    "\n",
    "The histogram also helps us put these measures of central tendancy into the context of the rest of the values.\n",
    "\n",
    "But there's a limited amount that these numbers can tell up about the shape of the rest of the distribution.  We can see from the histogram above that sepal widths take a range of different values.  How can we quantify how spread out the data is, or how much it _varies_ from the average value?\n",
    "\n",
    "### Measures of spread\n",
    "\n",
    "We typically quantify how spread out a dataset is around its average value using the _standard deviation_ (or the *variance*, which is simply the square of the standard deviation).  The standard deviation is large when the data is spread over a wide range of values and is small when the data is concentrated over a narrow range.  What's large and what's small?  That's a good question - it's only really possible to interpret what the standard deviation means when comparing it to that of another distribution."
   ]
  },
  {
   "cell_type": "code",
   "execution_count": 46,
   "metadata": {},
   "outputs": [
    {
     "data": {
      "image/png": "[encoded data removed]",
      "text/plain": [
       "Plot with title \"Histogram of sepal length for 150 irises\""
      ]
     },
     "metadata": {},
     "output_type": "display_data"
    }
   ],
   "source": [
    "# Set plot window size\n",
    "options(repr.plot.width=8, repr.plot.height=4)\n",
    "\n",
    "# Set up plot area for two side-by-side histograms\n",
    "par(mfrow=c(1,2))\n",
    "\n",
    "\n",
    "### HISTOGRAM 1\n",
    "\n",
    "# Plot histogram of sepal widths, as before\n",
    "hist(iris$Sepal.Width, main=\"Histogram of sepal width for 150 irises\", \n",
    "     col=\"slateblue1\", xlab=\"Sepal width (cm)\", cex.main=0.9)\n",
    "\n",
    "abline(v=mean(iris$Sepal.Width), col=\"red\")\n",
    "\n",
    "text(3.4,35,\"Mean = 3.9\",col=\"red\", cex=0.75)\n",
    "\n",
    "\n",
    "### HISTOGRAM 2\n",
    "\n",
    "# Plot histogram of sepal lengths\n",
    "hist(iris$Sepal.Length, main=\"Histogram of sepal length for 150 irises\", \n",
    "     col=\"slateblue1\", xlab=\"Sepal length (cm)\", cex.main=0.9)\n",
    "\n",
    "abline(v=mean(iris$Sepal.Length), col=\"red\")\n",
    "\n",
    "text(4.9,30,\"Mean = 5.8\",col=\"red\", cex=0.75)"
   ]
  },
  {
   "cell_type": "code",
   "execution_count": 47,
   "metadata": {},
   "outputs": [
    {
     "data": {
      "text/html": [
       "0.435866284936698"
      ],
      "text/latex": [
       "0.435866284936698"
      ],
      "text/markdown": [
       "0.435866284936698"
      ],
      "text/plain": [
       "[1] 0.4358663"
      ]
     },
     "metadata": {},
     "output_type": "display_data"
    },
    {
     "data": {
      "text/html": [
       "0.828066127977863"
      ],
      "text/latex": [
       "0.828066127977863"
      ],
      "text/markdown": [
       "0.828066127977863"
      ],
      "text/plain": [
       "[1] 0.8280661"
      ]
     },
     "metadata": {},
     "output_type": "display_data"
    }
   ],
   "source": [
    "sd(iris$Sepal.Width)\n",
    "sd(iris$Sepal.Length)"
   ]
  },
  {
   "cell_type": "markdown",
   "metadata": {},
   "source": [
    "We can judge by eye that the distribution of sepal lengths is more spread out than that of sepal widths - looking at the x-axes, the sepal lengths vary over a range of about 4cm whereas the sepal widths vary over a range of around 2cm.  Calculating the standard deviations allows us to quantify this difference more precisely - the standard deviation of our sepal lengths is roughly twice that of our sepal widths.\n",
    "\n",
    "Another important measure of spread is the _skew_ of a distribution.  The skew is a measure of how asymmetrically data is distributed.  Most people are familiar with the normal distribution - the symmetric, bell-shaped curve that is found in many natural distributions such as for height, weight, shoe size, IQ, etc.  The normal distribution is significant in this discussion because it has _no skew_ - it's symmetric and its mean, median and mode are all equal.  It's often useful to visually compare a new distribution of data to the normal distribution and to calculate its skew.  This helps us identify whether we have an increased likelihood of observing either extremely high or low values on either side of the average value."
   ]
  },
  {
   "cell_type": "code",
   "execution_count": 48,
   "metadata": {},
   "outputs": [
    {
     "data": {
      "image/png": "[encoded data removed]",
      "text/plain": [
       "Plot with title \"Sample of 150 values from a normal distribution\""
      ]
     },
     "metadata": {},
     "output_type": "display_data"
    }
   ],
   "source": [
    "# Set plot window size\n",
    "options(repr.plot.width=8, repr.plot.height=4)\n",
    "\n",
    "# Set up plot area for two side-by-side histograms\n",
    "par(mfrow=c(1,2))\n",
    "\n",
    "\n",
    "### HISTOGRAM 1\n",
    "\n",
    "# Plot histogram of sepal widths, as before\n",
    "hist(iris$Sepal.Width, main=\"Histogram of sepal width for 150 irises\", \n",
    "     col=\"slateblue1\", xlab=\"Sepal width (cm)\", cex.main=0.9, prob=TRUE)\n",
    "\n",
    "# Plot empirical distribution of sepal widths\n",
    "lines(density(iris$Sepal.Width), col=\"red\")\n",
    "\n",
    "# Label emprical distribution\n",
    "text(3.8,01.1,\"Empirical shape of\\nsepal widths distribution\",col=\"red\", cex=0.70)\n",
    "\n",
    "\n",
    "### HISTOGRAM 2\n",
    "\n",
    "# Initialise random seed for reproducibility\n",
    "set.seed(2021)\n",
    "\n",
    "# Take 150 sample values from a noraml distribution with the same mean and standard deviation as the\n",
    "# distribution of sepal widths\n",
    "normal_sample <- rnorm(150, mean(iris$Sepal.Width), sd(iris$Sepal.Width))\n",
    "\n",
    "# Plot histogram of simulated values\n",
    "hist(normal_sample, main=\"Sample of 150 values from a normal distribution\",\n",
    "     cex.main=0.75, col=\"royalblue\", prob=TRUE, cex.main=0.9)\n",
    "\n",
    "# Add a line showing theoretical density of normal distribution\n",
    "xs <- seq(1.5,4.5,0.01)\n",
    "lines(xs,dnorm(xs,mean(iris$Sepal.Width), sd(iris$Sepal.Width)), col=\"red\")\n",
    "\n",
    "# Label theoretical normal distribution density line\n",
    "text(2.3,0.9,\"Theoretical shape of\\nnormal distribution\",col=\"red\", cex=0.70)"
   ]
  },
  {
   "cell_type": "code",
   "execution_count": 49,
   "metadata": {},
   "outputs": [
    {
     "data": {
      "text/html": [
       "0.312614703922861"
      ],
      "text/latex": [
       "0.312614703922861"
      ],
      "text/markdown": [
       "0.312614703922861"
      ],
      "text/plain": [
       "[1] 0.3126147"
      ]
     },
     "metadata": {},
     "output_type": "display_data"
    },
    {
     "data": {
      "text/html": [
       "-0.0486303314889755"
      ],
      "text/latex": [
       "-0.0486303314889755"
      ],
      "text/markdown": [
       "-0.0486303314889755"
      ],
      "text/plain": [
       "[1] -0.04863033"
      ]
     },
     "metadata": {},
     "output_type": "display_data"
    }
   ],
   "source": [
    "# Calcualte skew of each distribution\n",
    "coeff_skew_sepal_widths <- (sum((iris$Sepal.Width - mean(iris$Sepal.Width))^3) / length(iris$Sepal.Width)) / sd(iris$Sepal.Width)^3\n",
    "coeff_skew_normal_samples <- (sum((normal_sample - mean(normal_sample))^3) / length(normal_sample)) / sd(normal_sample)^3\n",
    "\n",
    "# Use skews to calculate coefficients of skewness\n",
    "coeff_skew_sepal_widths\n",
    "coeff_skew_normal_samples"
   ]
  },
  {
   "cell_type": "markdown",
   "metadata": {},
   "source": [
    "R doesn't have a built-in function for calculating the skewness of a distribution, so we've had to rely on the mathemtical definition - don't worry too much about these formulae here if that's not your cup of tea.  The thing to note is that the _coefficient of skewness_ for the sepal widths is greater than zero, which is indicative of positive skew.  This means we are more likely to observe extremely high values than we would for a symmetric normal distribution.  For comparison, we've also calculated the coefficient of skewness for a sample of 150 values from a normal distribution.  The value is close to zero as we would expect.\n",
    "\n",
    "## Stepping back from the details\n",
    "\n",
    "As we conclude, let's take a moment to consider the real-world context of a descriptive data analysis.  While it's all well and good that *we* can understand what all the numbers mean, it’s instructive to note that the data analyst is unlikely to be the one making strategic decisions in a real-world business scenario.  More likely is it that the analyst will be reporting to stakeholders, such as managers and heads of departments.  These stakeholders may have limited technical knowledge to understand the ins and outs of the analysis, or perhaps limited interest in the details.  We should be prepared to explain if necessary, but more important to them usually is the big picture, the “so-what”, the insights and the potential actions available to them.  Finding the best way to communicate the features and significance of a dataset can be one of the most challenging parts of the data analysis process – but certainly one of the most important, and one of the most rewarding.\n",
    "\n",
    "This leads on to one of the most important parts of descrpitive data analysis: _visualising_ the data in such a way so as to reveal its true nature and exposing patterns and trends in an way that is intuitive and understandable - even for a non-technical audience.  Data Visualisation is a field in itself.  An expertly-crafted graphic can communicate ideas, patterns and trends infinitely better than mere words.  For some examples of top-quality visualisation, check out some of the work by [FlowingData](https://flowingdata.com/) and [FiveThirtyEight](https://fivethirtyeight.com/) among others.\n",
    "\n",
    "## So what?\n",
    "\n",
    "Decisions without data to back them up aren’t decisions – they’re guesses.  A speculator may have a good run once in a while, but the player that has combed through and analysed the data they have available to them with the right techniques will be able to back up their choices with evidence and win more consistently.  Long-term value is created by businesses that have solid processes in place for data collection and analysis.  Companies with departments that communicate and collaborate to leverage all the insight they can from data will perform better and ultimately create better outcomes for stakeholders and for wider society.  A descriptive data analysis is the start of the process through which that happens.  \n",
    "\n",
    "Stay tuned for more content on data analysis.  Until next time!\n",
    "\n",
    "### Credits and more info\n",
    "\n",
    "__Andrew Hetherington__ is an actuary-in-training and data enthusiast based in London, UK. \n",
    "\n",
    "Connect with me on LinkedIn:  https://www.linkedin.com/in/andrewmhetherington/\n",
    "\n",
    "See what I’m tinkering with on GitHub:  https://github.com/andrewhetherington/python-projects\n",
    "\n",
    "Images: Iris photo by [Olga Mandel](https://unsplash.com/@olgamandel).  Tiger photo by [Boris Drobnic](https://unsplash.com/@drobo).  Both on Unsplash."
   ]
  }
 ],
 "metadata": {
  "kernelspec": {
   "display_name": "R",
   "language": "R",
   "name": "ir"
  },
  "language_info": {
   "codemirror_mode": "r",
   "file_extension": ".r",
   "mimetype": "text/x-r-source",
   "name": "R",
   "pygments_lexer": "r",
   "version": "3.6.1"
  }
 },
 "nbformat": 4,
 "nbformat_minor": 2
}
