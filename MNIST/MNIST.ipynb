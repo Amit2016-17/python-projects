{
 "cells": [
  {
   "cell_type": "markdown",
   "metadata": {},
   "source": [
    "# MNIST Classification\n",
    "\n",
    "In this notebook, we'll explore the MNIST (Modified National Institute of Standards and Technology) database - a large set of handwritten digits with their associated labels.  A common Machine Learning challenge is to build a multiclass classifier than can tell with high accuracy what digit a given image represents."
   ]
  },
  {
   "cell_type": "code",
   "execution_count": 1,
   "metadata": {},
   "outputs": [],
   "source": [
    "# Import modules for maths, data manipulation and plotting\n",
    "import pandas as pd\n",
    "import numpy as np\n",
    "import matplotlib.pyplot as plt\n",
    "import matplotlib.style as style\n",
    "style.use('default')"
   ]
  },
  {
   "cell_type": "code",
   "execution_count": 2,
   "metadata": {},
   "outputs": [
    {
     "data": {
      "text/plain": [
       "dict_keys(['data', 'target', 'frame', 'categories', 'feature_names', 'target_names', 'DESCR', 'details', 'url'])"
      ]
     },
     "execution_count": 2,
     "metadata": {},
     "output_type": "execute_result"
    }
   ],
   "source": [
    "# Fetch and load data\n",
    "from sklearn.datasets import fetch_openml\n",
    "\n",
    "mnist = fetch_openml(\"mnist_784\", version=1)\n",
    "mnist.keys()"
   ]
  },
  {
   "cell_type": "code",
   "execution_count": 3,
   "metadata": {},
   "outputs": [],
   "source": [
    "# Extract features and labels\n",
    "data, labels = mnist[\"data\"], mnist[\"target\"].astype(np.uint8)\n",
    "\n",
    "# Select three arbitrary digits\n",
    "example_digits = data[40:43]"
   ]
  },
  {
   "cell_type": "code",
   "execution_count": 4,
   "metadata": {},
   "outputs": [
    {
     "data": {
      "image/png": "[encoded data removed]",
      "text/plain": [
       "<Figure size 1200x300 with 3 Axes>"
      ]
     },
     "metadata": {},
     "output_type": "display_data"
    }
   ],
   "source": [
    "# Set up plotting area\n",
    "fig = plt.figure(figsize=(12,3))\n",
    "\n",
    "# Set up subplots for each digit - we'll plot each one side by side to illustrate the variation\n",
    "ax1, ax2, ax3 = fig.add_subplot(131), fig.add_subplot(132), fig.add_subplot(133)\n",
    "axs = [ax1, ax2, ax3]\n",
    "\n",
    "# Plot the digits\n",
    "for i in range(3):\n",
    "    \n",
    "    ax = axs[i]\n",
    "    ax.imshow(example_digits[i].reshape(28, 28), cmap=\"binary\")\n",
    "    ax.set_xticks([], []) \n",
    "    ax.set_yticks([], []) \n",
    "\n",
    "plt.show()"
   ]
  },
  {
   "cell_type": "markdown",
   "metadata": {},
   "source": [
    "Before going any further, let's split the data into training and test sets.  Then we can explore the training set all we like without risking becoming biased and giving ourselves an unfair advantage when we eventually come to evaluate the performance of our model on the test set."
   ]
  },
  {
   "cell_type": "code",
   "execution_count": 5,
   "metadata": {},
   "outputs": [],
   "source": [
    "data_train, data_test, labels_train, labels_test = data[:60000], data[60000:], labels[:60000], labels[60000:]"
   ]
  },
  {
   "cell_type": "markdown",
   "metadata": {},
   "source": [
    "## Simplify the problem - Binary Classifier\n",
    "\n",
    "As a first step, let's simplify the classification problem and build a binary classifier.  Let's see if we can train a model to recognise 7's.  The two possible outcomes for this scenario are then simply *7* and *not 7*."
   ]
  },
  {
   "cell_type": "code",
   "execution_count": 6,
   "metadata": {},
   "outputs": [
    {
     "data": {
      "text/plain": [
       "array([5, 0, 4, ..., 5, 6, 8], dtype=uint8)"
      ]
     },
     "execution_count": 6,
     "metadata": {},
     "output_type": "execute_result"
    }
   ],
   "source": [
    "labels_train"
   ]
  },
  {
   "cell_type": "code",
   "execution_count": 7,
   "metadata": {},
   "outputs": [],
   "source": [
    "labels_train_7 = (labels_train == 7) # True for 7's, false for all other digits\n",
    "labels_test_7 = (labels_test == 7)"
   ]
  },
  {
   "cell_type": "markdown",
   "metadata": {},
   "source": [
    "Now let's select and train a classifier.  A good place to start is with a *Stochastic Gradient Descent* (SGD) classifier as they can handle large datasets efficiently."
   ]
  },
  {
   "cell_type": "code",
   "execution_count": 8,
   "metadata": {},
   "outputs": [
    {
     "data": {
      "text/plain": [
       "SGDClassifier(random_state=0)"
      ]
     },
     "execution_count": 8,
     "metadata": {},
     "output_type": "execute_result"
    }
   ],
   "source": [
    "from sklearn.linear_model import SGDClassifier\n",
    "\n",
    "sgd_clf_7 = SGDClassifier(random_state=0) # Instantiate model\n",
    "sgd_clf_7.fit(data_train, labels_train_7) # Train to recognise 7's"
   ]
  },
  {
   "cell_type": "markdown",
   "metadata": {},
   "source": [
    "Evaluate the model on our three example digits from earlier:"
   ]
  },
  {
   "cell_type": "code",
   "execution_count": 9,
   "metadata": {},
   "outputs": [
    {
     "data": {
      "text/plain": [
       "array([False, False,  True])"
      ]
     },
     "execution_count": 9,
     "metadata": {},
     "output_type": "execute_result"
    }
   ],
   "source": [
    "sgd_clf_7.predict(example_digits)"
   ]
  },
  {
   "cell_type": "markdown",
   "metadata": {},
   "source": [
    "How delightful - our classifier has got it right.  Now, let's see how it does when we cross-validate the model:"
   ]
  },
  {
   "cell_type": "code",
   "execution_count": 10,
   "metadata": {},
   "outputs": [
    {
     "data": {
      "text/plain": [
       "array([0.9754 , 0.9795 , 0.98115])"
      ]
     },
     "execution_count": 10,
     "metadata": {},
     "output_type": "execute_result"
    }
   ],
   "source": [
    "from sklearn.model_selection import cross_val_score\n",
    "\n",
    "cross_val_score(sgd_clf_7, data_train, labels_train_7, cv=3, scoring=\"accuracy\")"
   ]
  },
  {
   "cell_type": "markdown",
   "metadata": {},
   "source": [
    "Not too shabby!  Our classifer scores at least 96% accuracy in distinguishing sevens from not-sevens.  But wait - is this really so impressive?  Let's construct the stupidest model we can - one that always guesses that the digit isn't a seven.  There are a lot of not-sevens in the dataset, so it might end up doing quite well despite its lack of intelligence."
   ]
  },
  {
   "cell_type": "code",
   "execution_count": 11,
   "metadata": {},
   "outputs": [
    {
     "data": {
      "text/plain": [
       "array([0.89535, 0.8984 , 0.893  ])"
      ]
     },
     "execution_count": 11,
     "metadata": {},
     "output_type": "execute_result"
    }
   ],
   "source": [
    "from sklearn.base import BaseEstimator\n",
    "\n",
    "class AlwaysNot7(BaseEstimator):\n",
    "    \n",
    "    def fit(self, X, y=None):\n",
    "        return self # Fitting does nothing\n",
    "    \n",
    "    def predict(self, X):\n",
    "        return np.zeros((len(X), 1), dtype=bool) # Return an array made up of one False per instance of data\n",
    "\n",
    "always_not_7_clf = AlwaysNot7()\n",
    "\n",
    "cross_val_score(always_not_7_clf, data_train, labels_train_7, cv=3, scoring=\"accuracy\")"
   ]
  },
  {
   "cell_type": "markdown",
   "metadata": {},
   "source": [
    "Our dumb model scores 89% accuracy!  We're still significantly more accurate when we actually train our model, but this exercise just shows that model performance is relative and needs to be compared to a suitable baseline to properly evaluate it.\n",
    "\n",
    "Now, instead of just coming up with the cross validation accuracy scores, let's actually get a set of predictions.  We can use cross_val_predict to get a \"clean\" set of predictions on the training data - ie predictions for each instance in the training data are obtained by training the model on a set of folds *which do not contain the instance being predicted.*  In this way, we ensure that the model can't cheat by seeing the answer before making a prediction!"
   ]
  },
  {
   "cell_type": "code",
   "execution_count": 12,
   "metadata": {},
   "outputs": [],
   "source": [
    "from sklearn.model_selection import cross_val_predict\n",
    "\n",
    "data_train_predictions = cross_val_predict(sgd_clf_7, data_train, labels_train_7, cv=3)"
   ]
  },
  {
   "cell_type": "code",
   "execution_count": 13,
   "metadata": {},
   "outputs": [
    {
     "data": {
      "text/plain": [
       "array([[53321,   414],\n",
       "       [  865,  5400]], dtype=int64)"
      ]
     },
     "execution_count": 13,
     "metadata": {},
     "output_type": "execute_result"
    }
   ],
   "source": [
    "from sklearn.metrics import confusion_matrix\n",
    "\n",
    "conf_mx_7 = confusion_matrix(labels_train_7, data_train_predictions)\n",
    "conf_mx_7"
   ]
  },
  {
   "cell_type": "markdown",
   "metadata": {},
   "source": [
    "We get the following results:\n",
    "- 53,321 True Positives (model predicted 7, was actually a 7);\n",
    "- 414 False Negatives (model predicted not-7, was actually a 7);\n",
    "- 865 False Positives (model predicted 7, was actually not a 7); and\n",
    "- 5400 True Negatives (model predicted not-7, was actually not a 7).\n",
    "\n",
    "## Precision and Recall\n",
    "\n",
    "*Precision* is the ratio of True Positives to positive predictions, ie TP / (TP + FP).  Precision represents how reliable the model's positive predictions are.  \n",
    "\n",
    "*Recall* is the ratio of True Positives to all positive instances in the dataset, ie TP / (TP + FN).  Recall represents how good the model is at catching positive instances.  \n",
    "\n",
    "The mathematics of calculating precision and recall is not particularly demanding for this example, but nonetheless, they can easily be calculated as follows:"
   ]
  },
  {
   "cell_type": "code",
   "execution_count": 14,
   "metadata": {},
   "outputs": [
    {
     "name": "stdout",
     "output_type": "stream",
     "text": [
      "0.9287925696594427\n",
      "0.8619313647246608\n"
     ]
    }
   ],
   "source": [
    "from sklearn.metrics import precision_score, recall_score\n",
    "\n",
    "print(precision_score(labels_train_7, data_train_predictions))\n",
    "print(recall_score(labels_train_7, data_train_predictions))"
   ]
  },
  {
   "cell_type": "markdown",
   "metadata": {},
   "source": [
    "Our model thus has around 93% precision and 86% recall.  The precision and recall are often combined into a single metric for convenience—the F1 score.  It's calculated as the harmonic mean of the precision and recall (this means that we will only get a high F1 score if both the precision and recall are high.  If either one is low, then it will drag the average down significantly)."
   ]
  },
  {
   "cell_type": "code",
   "execution_count": 15,
   "metadata": {},
   "outputs": [
    {
     "name": "stdout",
     "output_type": "stream",
     "text": [
      "0.8941137511383392\n"
     ]
    }
   ],
   "source": [
    "from sklearn.metrics import f1_score\n",
    "\n",
    "print(f1_score(labels_train_7, data_train_predictions))"
   ]
  },
  {
   "cell_type": "markdown",
   "metadata": {},
   "source": [
    "As both our precision and recall are pretty high, the F1 score is also quite good.  On the whole, our model isn't half bad at identifying sevens.  Perhaps it would struggle with more ambiguous numbers, though—the only digit that is vagualy similar to 7 is 1.  \n",
    "\n",
    "Our SGD classifier makes decisions by calculating a *decision score* for each instance.  If the decision score for a given instance is above a particular value, then that instance is predicted to be a positive result—otherwise it is classified as negative.  If we were able to increase the threshold, then the model would give more negative predictions and would only give predictions for the instances that it was more sure about (which would have higher decision scores).\n",
    "\n",
    "We cannot set the threshold of our SGD classifier directly, but we can access the decision scores that the model produces for a given set of data.  We can then set our own threshold, compare it with the decision scores, and infer what the model would have throught if it had used that threshold.  We can get decision scores using cross_val_predict with the method parameter set to \"decision_function\"."
   ]
  },
  {
   "cell_type": "code",
   "execution_count": 16,
   "metadata": {},
   "outputs": [],
   "source": [
    "data_train_decision_scores = cross_val_predict(sgd_clf_7, data_train, labels_train_7, cv=3,\n",
    "                                                method=\"decision_function\")"
   ]
  },
  {
   "cell_type": "code",
   "execution_count": 17,
   "metadata": {},
   "outputs": [
    {
     "name": "stdout",
     "output_type": "stream",
     "text": [
      "5814\n",
      "5542\n"
     ]
    }
   ],
   "source": [
    "threshold = 0\n",
    "\n",
    "print(sum(data_train_decision_scores > threshold))\n",
    "\n",
    "threshold = 1000 # Require model to be more confident to classify as positive by raising decision score threshold\n",
    "\n",
    "print(sum(data_train_decision_scores > threshold))"
   ]
  },
  {
   "cell_type": "markdown",
   "metadata": {},
   "source": [
    "Raising the threshold reduces the number of positive predictions.  However, this will typically mean that there are now more false negatives—positive instances that the model would have correctly identified if it was allowed to be less prudent with its estimates.  \n",
    "\n",
    "We can plot how the precision and recall vary with the threshold.  By doing this, we can select a threshold that gives us an acceptable balance of precision and recall.  Whether we require high precision, high recall, or indeed both, depends on the particular situation in which the model will be applied.  In some circumstances, high recall may be preferred over high precision if there is little cost associated with a few false alarms (false positives) but high costs associated with missing a positive instance (false negatives)."
   ]
  },
  {
   "cell_type": "code",
   "execution_count": 19,
   "metadata": {},
   "outputs": [
    {
     "data": {
      "text/plain": [
       "array([-31442.28649015, -27728.949546  , -22161.20000825, ...,\n",
       "       -43950.58997604, -28967.61302175, -25061.53727363])"
      ]
     },
     "execution_count": 19,
     "metadata": {},
     "output_type": "execute_result"
    }
   ],
   "source": [
    "data_train_decision_scores"
   ]
  },
  {
   "cell_type": "code",
   "execution_count": 21,
   "metadata": {},
   "outputs": [],
   "source": [
    "from sklearn.metrics import precision_recall_curve\n",
    "\n",
    "precisions, recalls, thresholds = precision_recall_curve(labels_train_7, data_train_decision_scores)"
   ]
  },
  {
   "cell_type": "code",
   "execution_count": 22,
   "metadata": {},
   "outputs": [
    {
     "data": {
      "text/plain": [
       "array([0.12774504, 0.12772725, 0.12772986, ..., 1.        , 1.        ,\n",
       "       1.        ])"
      ]
     },
     "execution_count": 22,
     "metadata": {},
     "output_type": "execute_result"
    }
   ],
   "source": [
    "precisions"
   ]
  },
  {
   "cell_type": "code",
   "execution_count": 36,
   "metadata": {},
   "outputs": [
    {
     "data": {
      "text/plain": [
       "[<matplotlib.lines.Line2D at 0x2008f6c5f48>]"
      ]
     },
     "execution_count": 36,
     "metadata": {},
     "output_type": "execute_result"
    },
    {
     "data": {
      "image/png": "[encoded data removed]",
      "text/plain": [
       "<Figure size 1200x600 with 1 Axes>"
      ]
     },
     "metadata": {},
     "output_type": "display_data"
    }
   ],
   "source": [
    "# Set up plotting area\n",
    "fig, ax = plt.subplots(figsize=(12,6))\n",
    "\n",
    "# Plot decision and recall curves\n",
    "ax.plot(thresholds, precisions[:-1], \"b--\", label=\"Precision\")\n",
    "ax.plot(thresholds, recalls[:-1], \"g-\", label=\"Recall\")\n",
    "\n",
    "# Add legend to distinguish lines\n",
    "ax.legend(loc=\"center left\", fontsize=12)\n",
    "\n",
    "# Set x axis label\n",
    "ax.set_xlabel(\"Threshold\", labelpad=20, fontsize=12)\n",
    "\n",
    "# Set appropriate x- and y-axis limits\n",
    "ax.axis([-50000,50000,0,1.01])\n",
    "\n",
    "\n",
    "# What threshold should we set if we wanted 95% precision?  Use np.argmax()\n",
    "# (precisions >= 0.95) is an array of [False, False, ..., False, True, True, ...]\n",
    "# With the first True representing the lowest threshold for which precision in greater than 95%\n",
    "# np.argmax() sees True as 1 and False as 0 so it takes the first instance of the maximum value in the array and\n",
    "# returns the index position in the array.  We can use this index to find the corresponding threshold and recall.\n",
    "threshold_95_precision = thresholds[np.argmax(precisions >= 0.95)]\n",
    "recall_95_precision = recalls[np.argmax(precisions >= 0.95)]\n",
    "\n",
    "# Plot this threshold and the associated precision and recall\n",
    "ax.plot([threshold_95_precision, threshold_95_precision], [0.0, 0.95], \"r:\")\n",
    "ax.plot([-50000, threshold_95_precision], [0.95, 0.95], \"r:\")\n",
    "ax.plot([-50000, threshold_95_precision], [recall_95_precision, recall_95_precision], \"r:\")\n",
    "\n",
    "ax.plot(threshold_95_precision, recall_95_precision, \"ro\")\n",
    "ax.plot(threshold_95_precision, 0.95, \"ro\")"
   ]
  },
  {
   "cell_type": "markdown",
   "metadata": {},
   "source": [
    "Remark that as the decision score threshold is increased, the number of true positives can only decrease.  Similarly, the number of false positives can only decrease.  However, the number of false negatives will increase.  \n",
    "\n",
    "Because both true and false positives can decrease, it is possible for precision to decrease on a local scale as the threshold is increased - although the trend will generallly be positive.  This is why the pecision curve is bumpy.  Conversely, recall can only decrease as the threshold is increased, leading to a smooth curve.\n",
    "\n",
    "The reason for the dip in precision at high thresholds is as follows: when the threshold is already high, the model will only predict positive for instances that it is very confident about, and there will be very few false positives—if the model has even a small doubt about a particular instance, it will class if as negative.  So the effect of increasing the threshold even higher begins to reduce true positives while having little effect on false positives.  This causes recall to fall rather continuously.\n",
    "\n",
    "Another useful way of visualising the tradeoff between precision and recall is to simply plot them against eachother."
   ]
  },
  {
   "cell_type": "code",
   "execution_count": 42,
   "metadata": {},
   "outputs": [
    {
     "data": {
      "text/plain": [
       "[<matplotlib.lines.Line2D at 0x20093bf0f08>]"
      ]
     },
     "execution_count": 42,
     "metadata": {},
     "output_type": "execute_result"
    },
    {
     "data": {
      "image/png": "[encoded data removed]",
      "text/plain": [
       "<Figure size 600x600 with 1 Axes>"
      ]
     },
     "metadata": {},
     "output_type": "display_data"
    }
   ],
   "source": [
    "# Set up plotting area\n",
    "fig, ax = plt.subplots(figsize=(6,6))\n",
    "\n",
    "# Plot curve\n",
    "ax.plot(recalls, precisions, \"b-\")\n",
    "\n",
    "# Set x-axis label\n",
    "ax.set_xlabel(\"Recall\", labelpad=20, fontsize=12)\n",
    "\n",
    "# Set y-axis label\n",
    "ax.set_ylabel(\"Precision\", labelpad=20, fontsize=12)\n",
    "\n",
    "# Set appropriate x- and y-axis limits\n",
    "ax.axis([0,1,0,1])\n",
    "\n",
    "# Plot recall corresponding to 95% precision\n",
    "ax.plot([recall_95_precision, recall_95_precision], [0, 0.95], \"r:\")\n",
    "ax.plot([0, recall_95_precision], [0.95, 0.95], \"r:\")\n",
    "\n",
    "ax.plot(recall_95_precision, 0.95, \"ro\")"
   ]
  },
  {
   "cell_type": "markdown",
   "metadata": {},
   "source": [
    "We can observe that for this particular classifer, we can achieve a high precision without sacrificing much recall.  However, precision really starts to fall off sharply at around 90% recall - so we wouldn't want to try to increase recall further than that.  The same shape is true in general for precision/recall of classifiers - there will be a point where increasing recall begins to have a sharply noticeable detrimental effect on precision.  We would usually want to balance the two quantities at a point just before this drop off in the curve.\n",
    "\n",
    "## ROC (Receiver Operating Characteristic) Curve\n",
    "\n",
    "The ROC curve is another common tool for evaluating the performance of binary classifiers.  It takes the form of a plot of the true positive rate (TPR) against the false positive rate (FPR) as the decision score threshold is varied (for a given threshold, there is only one TPR and FPR).  We can use the roc_curve function from sklearn to easily compute the TPR and FPR for various thresholds.\n",
    "\n",
    "For comparison, let's also train a Random Forest model and see how its ROC curve compares to that of our SGD model."
   ]
  },
  {
   "cell_type": "code",
   "execution_count": 64,
   "metadata": {},
   "outputs": [],
   "source": [
    "from sklearn.ensemble import RandomForestClassifier\n",
    "\n",
    "rf_clf_7 = RandomForestClassifier(random_state=0)\n",
    "data_train_rf_probabilities = cross_val_predict(rf_clf_7, data_train, labels_train_7, cv=3,\n",
    "                                               method=\"predict_proba\")"
   ]
  },
  {
   "cell_type": "code",
   "execution_count": 70,
   "metadata": {},
   "outputs": [],
   "source": [
    "data_train_rf_decision_scores = data_train_rf_probabilities[:, 1]"
   ]
  },
  {
   "cell_type": "code",
   "execution_count": 71,
   "metadata": {},
   "outputs": [
    {
     "data": {
      "image/png": "[encoded data removed]",
      "text/plain": [
       "<Figure size 600x600 with 1 Axes>"
      ]
     },
     "metadata": {},
     "output_type": "display_data"
    }
   ],
   "source": [
    "from sklearn.metrics import roc_curve\n",
    "\n",
    "fpr_sgd, tpr_sgd, thresholds_sgd = roc_curve(labels_train_7, data_train_decision_scores)\n",
    "fpr_rf, tpr_rf, thresholds_tree = roc_curve(labels_train_7, data_train_rf_decision_scores)\n",
    "\n",
    "fig, ax = plt.subplots(figsize=(6,6))\n",
    "\n",
    "def plot_roc_curve(fpr, tpr, label=None):\n",
    "    ax.plot(fpr, tpr, label=label)\n",
    "    ax.plot([0,1], [0,1], \"k--\") # Dashed diagonal line - random model\n",
    "    \n",
    "    ax.axis([-0.001,1.001,-0.001,1.001])\n",
    "    ax.legend(loc=\"center right\")\n",
    "    ax.set_xlabel(\"False Positive rate\", labelpad=10)\n",
    "    ax.set_ylabel(\"True Positive rate\", labelpad=10)\n",
    "\n",
    "plot_roc_curve(fpr_sgd, tpr_sgd, \"SGD\")\n",
    "plot_roc_curve(fpr_rf, tpr_rf, \"Random Forest\")"
   ]
  },
  {
   "cell_type": "markdown",
   "metadata": {},
   "source": [
    "The ROC curve for a superior model is further towards the top left hand corner of the plot—that is, further away from the diagonal line across the middle, which represents a random model (that's just makes a guess rather than any kind of \"prediction\").  We can hence see that the Random Forest is superior to the SGD model in this example.\n",
    "\n",
    "The AUC, or Area Under Curve, is simply that - the area under the ROC curve.  A perfect model will have an AUC of 1, a random model will have an AUc of 0.5, and a the perfect worse-than-random model will have an AUC of 0 (all predictions are precisely the wrong way round).\n",
    "\n",
    "\n",
    "## Multiclass Classification\n",
    "\n",
    "Some classifiers can handle multiple classes natively, such as SGD, Naive Bayes, and Random Forests.  Some other algorithms can only handle binary classification.  However, we can break a multiclass classification down into several smaller binary classification problems.  To do this, we can either use a One-versus-One (OvO) or One-versus-Rest (OvR) approach.\n",
    "\n",
    "In One-versus-One, we as many binary classifiers as there are binary combinations.  For this MNIST dataset, there are 10 possible classes, so we would have one classifier each for 1s vs 2s, 1s vs 3s, ..., 2s vs 3s, ..., and so on.  When it comes to the classification of an instance, the data is run through every classifier and the output class that \"wins\" the most is used to predict the final output.  This results in us having 45 classifiers—which is a lot!  Fortunately, each classifier only needs to be trained on a smaller part of the training set that relates to the two classes that it must be able to distinguish.\n",
    "\n",
    "In One-versus-Rest, we have as many binary classifiers as there are classes.  For out MNIST dataset, this is 10.  We have one classifier that tests 0 vs not-0, one for 1 vs not-1, and so on.  The classifier that is the most confident in its result (ie has the highest decision score) is used to predict the final output.\n",
    "\n",
    "To illustrate, let's take an algorithm that cannot natively deal with multiple classes - a Support Vector Machine (SVM) classifier model."
   ]
  },
  {
   "cell_type": "code",
   "execution_count": 73,
   "metadata": {},
   "outputs": [
    {
     "ename": "ValueError",
     "evalue": "Found array with dim 3. Estimator expected <= 2.",
     "output_type": "error",
     "traceback": [
      "\u001b[1;31m---------------------------------------------------------------------------\u001b[0m",
      "\u001b[1;31mValueError\u001b[0m                                Traceback (most recent call last)",
      "\u001b[1;32m<ipython-input-73-eda76540b5d5>\u001b[0m in \u001b[0;36m<module>\u001b[1;34m\u001b[0m\n\u001b[0;32m      3\u001b[0m \u001b[0msvm_clf\u001b[0m \u001b[1;33m=\u001b[0m \u001b[0mSVC\u001b[0m\u001b[1;33m(\u001b[0m\u001b[1;33m)\u001b[0m\u001b[1;33m\u001b[0m\u001b[1;33m\u001b[0m\u001b[0m\n\u001b[0;32m      4\u001b[0m \u001b[0msvm_clf\u001b[0m\u001b[1;33m.\u001b[0m\u001b[0mfit\u001b[0m\u001b[1;33m(\u001b[0m\u001b[0mdata_train\u001b[0m\u001b[1;33m,\u001b[0m \u001b[0mlabels_train\u001b[0m\u001b[1;33m)\u001b[0m\u001b[1;33m\u001b[0m\u001b[1;33m\u001b[0m\u001b[0m\n\u001b[1;32m----> 5\u001b[1;33m \u001b[0msvm_clf\u001b[0m\u001b[1;33m.\u001b[0m\u001b[0mpredict\u001b[0m\u001b[1;33m(\u001b[0m\u001b[1;33m[\u001b[0m\u001b[0mexample_digits\u001b[0m\u001b[1;33m]\u001b[0m\u001b[1;33m)\u001b[0m\u001b[1;33m\u001b[0m\u001b[1;33m\u001b[0m\u001b[0m\n\u001b[0m",
      "\u001b[1;32m~\\Anaconda3\\envs\\dataquest\\lib\\site-packages\\sklearn\\svm\\_base.py\u001b[0m in \u001b[0;36mpredict\u001b[1;34m(self, X)\u001b[0m\n\u001b[0;32m    612\u001b[0m             \u001b[0my\u001b[0m \u001b[1;33m=\u001b[0m \u001b[0mnp\u001b[0m\u001b[1;33m.\u001b[0m\u001b[0margmax\u001b[0m\u001b[1;33m(\u001b[0m\u001b[0mself\u001b[0m\u001b[1;33m.\u001b[0m\u001b[0mdecision_function\u001b[0m\u001b[1;33m(\u001b[0m\u001b[0mX\u001b[0m\u001b[1;33m)\u001b[0m\u001b[1;33m,\u001b[0m \u001b[0maxis\u001b[0m\u001b[1;33m=\u001b[0m\u001b[1;36m1\u001b[0m\u001b[1;33m)\u001b[0m\u001b[1;33m\u001b[0m\u001b[1;33m\u001b[0m\u001b[0m\n\u001b[0;32m    613\u001b[0m         \u001b[1;32melse\u001b[0m\u001b[1;33m:\u001b[0m\u001b[1;33m\u001b[0m\u001b[1;33m\u001b[0m\u001b[0m\n\u001b[1;32m--> 614\u001b[1;33m             \u001b[0my\u001b[0m \u001b[1;33m=\u001b[0m \u001b[0msuper\u001b[0m\u001b[1;33m(\u001b[0m\u001b[1;33m)\u001b[0m\u001b[1;33m.\u001b[0m\u001b[0mpredict\u001b[0m\u001b[1;33m(\u001b[0m\u001b[0mX\u001b[0m\u001b[1;33m)\u001b[0m\u001b[1;33m\u001b[0m\u001b[1;33m\u001b[0m\u001b[0m\n\u001b[0m\u001b[0;32m    615\u001b[0m         \u001b[1;32mreturn\u001b[0m \u001b[0mself\u001b[0m\u001b[1;33m.\u001b[0m\u001b[0mclasses_\u001b[0m\u001b[1;33m.\u001b[0m\u001b[0mtake\u001b[0m\u001b[1;33m(\u001b[0m\u001b[0mnp\u001b[0m\u001b[1;33m.\u001b[0m\u001b[0masarray\u001b[0m\u001b[1;33m(\u001b[0m\u001b[0my\u001b[0m\u001b[1;33m,\u001b[0m \u001b[0mdtype\u001b[0m\u001b[1;33m=\u001b[0m\u001b[0mnp\u001b[0m\u001b[1;33m.\u001b[0m\u001b[0mintp\u001b[0m\u001b[1;33m)\u001b[0m\u001b[1;33m)\u001b[0m\u001b[1;33m\u001b[0m\u001b[1;33m\u001b[0m\u001b[0m\n\u001b[0;32m    616\u001b[0m \u001b[1;33m\u001b[0m\u001b[0m\n",
      "\u001b[1;32m~\\Anaconda3\\envs\\dataquest\\lib\\site-packages\\sklearn\\svm\\_base.py\u001b[0m in \u001b[0;36mpredict\u001b[1;34m(self, X)\u001b[0m\n\u001b[0;32m    331\u001b[0m         \u001b[0my_pred\u001b[0m \u001b[1;33m:\u001b[0m \u001b[0mndarray\u001b[0m \u001b[0mof\u001b[0m \u001b[0mshape\u001b[0m \u001b[1;33m(\u001b[0m\u001b[0mn_samples\u001b[0m\u001b[1;33m,\u001b[0m\u001b[1;33m)\u001b[0m\u001b[1;33m\u001b[0m\u001b[1;33m\u001b[0m\u001b[0m\n\u001b[0;32m    332\u001b[0m         \"\"\"\n\u001b[1;32m--> 333\u001b[1;33m         \u001b[0mX\u001b[0m \u001b[1;33m=\u001b[0m \u001b[0mself\u001b[0m\u001b[1;33m.\u001b[0m\u001b[0m_validate_for_predict\u001b[0m\u001b[1;33m(\u001b[0m\u001b[0mX\u001b[0m\u001b[1;33m)\u001b[0m\u001b[1;33m\u001b[0m\u001b[1;33m\u001b[0m\u001b[0m\n\u001b[0m\u001b[0;32m    334\u001b[0m         \u001b[0mpredict\u001b[0m \u001b[1;33m=\u001b[0m \u001b[0mself\u001b[0m\u001b[1;33m.\u001b[0m\u001b[0m_sparse_predict\u001b[0m \u001b[1;32mif\u001b[0m \u001b[0mself\u001b[0m\u001b[1;33m.\u001b[0m\u001b[0m_sparse\u001b[0m \u001b[1;32melse\u001b[0m \u001b[0mself\u001b[0m\u001b[1;33m.\u001b[0m\u001b[0m_dense_predict\u001b[0m\u001b[1;33m\u001b[0m\u001b[1;33m\u001b[0m\u001b[0m\n\u001b[0;32m    335\u001b[0m         \u001b[1;32mreturn\u001b[0m \u001b[0mpredict\u001b[0m\u001b[1;33m(\u001b[0m\u001b[0mX\u001b[0m\u001b[1;33m)\u001b[0m\u001b[1;33m\u001b[0m\u001b[1;33m\u001b[0m\u001b[0m\n",
      "\u001b[1;32m~\\Anaconda3\\envs\\dataquest\\lib\\site-packages\\sklearn\\svm\\_base.py\u001b[0m in \u001b[0;36m_validate_for_predict\u001b[1;34m(self, X)\u001b[0m\n\u001b[0;32m    464\u001b[0m         \u001b[1;32mif\u001b[0m \u001b[1;32mnot\u001b[0m \u001b[0mcallable\u001b[0m\u001b[1;33m(\u001b[0m\u001b[0mself\u001b[0m\u001b[1;33m.\u001b[0m\u001b[0mkernel\u001b[0m\u001b[1;33m)\u001b[0m\u001b[1;33m:\u001b[0m\u001b[1;33m\u001b[0m\u001b[1;33m\u001b[0m\u001b[0m\n\u001b[0;32m    465\u001b[0m             X = check_array(X, accept_sparse='csr', dtype=np.float64,\n\u001b[1;32m--> 466\u001b[1;33m                             order=\"C\", accept_large_sparse=False)\n\u001b[0m\u001b[0;32m    467\u001b[0m \u001b[1;33m\u001b[0m\u001b[0m\n\u001b[0;32m    468\u001b[0m         \u001b[1;32mif\u001b[0m \u001b[0mself\u001b[0m\u001b[1;33m.\u001b[0m\u001b[0m_sparse\u001b[0m \u001b[1;32mand\u001b[0m \u001b[1;32mnot\u001b[0m \u001b[0msp\u001b[0m\u001b[1;33m.\u001b[0m\u001b[0misspmatrix\u001b[0m\u001b[1;33m(\u001b[0m\u001b[0mX\u001b[0m\u001b[1;33m)\u001b[0m\u001b[1;33m:\u001b[0m\u001b[1;33m\u001b[0m\u001b[1;33m\u001b[0m\u001b[0m\n",
      "\u001b[1;32m~\\Anaconda3\\envs\\dataquest\\lib\\site-packages\\sklearn\\utils\\validation.py\u001b[0m in \u001b[0;36minner_f\u001b[1;34m(*args, **kwargs)\u001b[0m\n\u001b[0;32m     71\u001b[0m                           FutureWarning)\n\u001b[0;32m     72\u001b[0m         \u001b[0mkwargs\u001b[0m\u001b[1;33m.\u001b[0m\u001b[0mupdate\u001b[0m\u001b[1;33m(\u001b[0m\u001b[1;33m{\u001b[0m\u001b[0mk\u001b[0m\u001b[1;33m:\u001b[0m \u001b[0marg\u001b[0m \u001b[1;32mfor\u001b[0m \u001b[0mk\u001b[0m\u001b[1;33m,\u001b[0m \u001b[0marg\u001b[0m \u001b[1;32min\u001b[0m \u001b[0mzip\u001b[0m\u001b[1;33m(\u001b[0m\u001b[0msig\u001b[0m\u001b[1;33m.\u001b[0m\u001b[0mparameters\u001b[0m\u001b[1;33m,\u001b[0m \u001b[0margs\u001b[0m\u001b[1;33m)\u001b[0m\u001b[1;33m}\u001b[0m\u001b[1;33m)\u001b[0m\u001b[1;33m\u001b[0m\u001b[1;33m\u001b[0m\u001b[0m\n\u001b[1;32m---> 73\u001b[1;33m         \u001b[1;32mreturn\u001b[0m \u001b[0mf\u001b[0m\u001b[1;33m(\u001b[0m\u001b[1;33m**\u001b[0m\u001b[0mkwargs\u001b[0m\u001b[1;33m)\u001b[0m\u001b[1;33m\u001b[0m\u001b[1;33m\u001b[0m\u001b[0m\n\u001b[0m\u001b[0;32m     74\u001b[0m     \u001b[1;32mreturn\u001b[0m \u001b[0minner_f\u001b[0m\u001b[1;33m\u001b[0m\u001b[1;33m\u001b[0m\u001b[0m\n\u001b[0;32m     75\u001b[0m \u001b[1;33m\u001b[0m\u001b[0m\n",
      "\u001b[1;32m~\\Anaconda3\\envs\\dataquest\\lib\\site-packages\\sklearn\\utils\\validation.py\u001b[0m in \u001b[0;36mcheck_array\u001b[1;34m(array, accept_sparse, accept_large_sparse, dtype, order, copy, force_all_finite, ensure_2d, allow_nd, ensure_min_samples, ensure_min_features, estimator)\u001b[0m\n\u001b[0;32m    640\u001b[0m         \u001b[1;32mif\u001b[0m \u001b[1;32mnot\u001b[0m \u001b[0mallow_nd\u001b[0m \u001b[1;32mand\u001b[0m \u001b[0marray\u001b[0m\u001b[1;33m.\u001b[0m\u001b[0mndim\u001b[0m \u001b[1;33m>=\u001b[0m \u001b[1;36m3\u001b[0m\u001b[1;33m:\u001b[0m\u001b[1;33m\u001b[0m\u001b[1;33m\u001b[0m\u001b[0m\n\u001b[0;32m    641\u001b[0m             raise ValueError(\"Found array with dim %d. %s expected <= 2.\"\n\u001b[1;32m--> 642\u001b[1;33m                              % (array.ndim, estimator_name))\n\u001b[0m\u001b[0;32m    643\u001b[0m \u001b[1;33m\u001b[0m\u001b[0m\n\u001b[0;32m    644\u001b[0m         \u001b[1;32mif\u001b[0m \u001b[0mforce_all_finite\u001b[0m\u001b[1;33m:\u001b[0m\u001b[1;33m\u001b[0m\u001b[1;33m\u001b[0m\u001b[0m\n",
      "\u001b[1;31mValueError\u001b[0m: Found array with dim 3. Estimator expected <= 2."
     ]
    }
   ],
   "source": [
    "from sklearn.svm import SVC\n",
    "\n",
    "svm_clf = SVC()\n",
    "svm_clf.fit(data_train, labels_train)\n",
    "svm_clf.predict(example_digits)"
   ]
  },
  {
   "cell_type": "markdown",
   "metadata": {},
   "source": [
    "Under the hood, our SVM classifier used the OvO strategy (by default).  If we wanted to force it to use OvR instead, we would have to pass the SVC class to the OneVsRestClassifier constructor as follows:"
   ]
  },
  {
   "cell_type": "code",
   "execution_count": null,
   "metadata": {},
   "outputs": [],
   "source": [
    "from sklearn.multiclass import OneVsRestClassifier\n",
    "\n",
    "ovr_clf = OneVsRestClassifier(SVC())\n",
    "ovr_clf.fit(data_train, labels_train)\n",
    "ovr_clf.predict(example_digits)"
   ]
  },
  {
   "cell_type": "markdown",
   "metadata": {},
   "source": [
    "## Machine Learning Project Workflow\n",
    "\n",
    "Now, let's pretend as if we were in a real-world scenario and needed to develop and train a model from start to finish to solve a business problem.  We have a certain number of steps that we would follow, including:\n",
    "\n",
    "- exploring the data;\n",
    "- preprocessing the data;\n",
    "- exploring different candidate algorithms for the model; and\n",
    "- fine-tuning hyperparameters to optimise performance.\n",
    "\n",
    "### 1.  Framing the problem\n",
    "\n",
    "*Define the objective in business terms.*  Perhaps we have a large library of physical documents that we need to transcribe.  Doing it by hand may be painstaking, time-consuming and expensive.  We may want to invest in the creation of a model to help us save time and resources in the long run.\n",
    "\n",
    "*How will the solution be used?*  The solution will be used to replace several temporary staff who are currently required to transcribe the library documents by hand.  A smaller staff will then only need to scan in the documents to be processed by the model.  \n",
    "\n",
    "*Current solutions and workarounds.*  The current solution is to have a physical staff transcribing documents.  Another option would be to hire a small staff to scan in the documents, but then outsource the transcription—either by forwarding on the scans to a specialist transcription company, or to a crowdsourcing marketplace such as Amazon Mechanical Turk.\n",
    "\n",
    "*How should we frame this problem?*  This problem should clearly be framed as a supervised learning task—we do not want digits to be classified into groups as we alreay know the classes.  We have a large bank of labelled trianing data, which is perfect for training a supervised algorithm.  As the model will only be used for this single library of documents, there is not much value in designing an online learning system that can receive a constant stream of new data.  This data is not changing rapidly and there is no real need to update the model beyond what is required for this specific set of documents.  We will use a model-based learning approach, as instance-based learning could be flawed.  Some digits may be written in an ambiguous way which means that they could be misclassified if they are deemed to be \"closer\" to the wrong digit.\n",
    "\n",
    "*How should performance be measured?*  We will use precision and recall to assess model performance.  We want our model to be confident in its predictions, and hence to have a high precision.  However, we also want our model to avoid false negatives, as these could be costly to identify and fix.  We want both high precision and recall, so we can also use the F1 score metric—which takes the harmonic mean of the precision and recall.  To obtain a high F1 score, the model would need to have both high precision and recall.  We could potentially collate difficult digits that our model only has a low degree of confidence with and send them off to a crowdsourcing marketplace for further human input—but we would want to minimise these cases to save on costs.\n",
    "\n",
    "*Is the performance measure aligned with the business objective?*  The consequences of misclassifcation are not experienced immediately, but if a sufficient number of errors are made by the model then it could undermine the credibility of our work.  It could also mean that we need to re-do the process, which would be time-consuming and expensive.  Thus, precision and recall are both relevant metrics to the business objective.\n",
    "\n",
    "*What would the minimum performance need to be to reach the business objective?*  Even though it takes much longer, human classification and transcription is not perfect and is only around 97% accurate.  Our bosses have told us that if we can match or beat this metric, then we can deploy the model as even for the same level of accuracy the model will be much cheaper to run that the human operation.\n",
    "\n",
    "*What are comparable problems?  Can we reuse experience of tools?*  Similar problems would be text and letter recognition—we essentially have the same problem but with digits.  Other similar problems would be other image recognition tasks, where a model needs to learn to distringuish between a range of particular objects in a given image.  We could do some research to see if there are any pre-buily models or modelling systems that can be easily adapted to our data.\n",
    "\n",
    "*Is human expertise available?*  Yes—most humans over the age of 5 will probably be able to classify digits in the way that we want!  Techincal expertise is not needed to understand the problem and evaluate whether the model has made a correct or incorrect prediction.  We can easily access crowdsourcing platforms if we need human input on any stage of the process.\n",
    "\n",
    "...\n",
    "\n",
    "There are many, many considerations we would need to take if we were applying our model to a real-world scenario.  In the interests of time we will not run through absolutely all of them!  Briefly, other considerations include (but may not be limited to):\n",
    "\n",
    "- How would the problem be solved manually?\n",
    "- What assumptions have we, or others, made so far?\n",
    "- Can we verify these assumptions?\n",
    "\n",
    "### 2.  Get the Data\n",
    "\n",
    "- Automate the data collection process as much as possible so we can easily get fresh data\n",
    "- What data do we need, and how much of it?\n",
    "- Find and document where we can get the data\n",
    "- How much space will the data take up?\n",
    "- Are there any legal obligations and requirements associated with procurement and ownership of the data?\n",
    "- Get access authorisations\n",
    "- Create a workspace with sufficient storage space\n",
    "- Get the data!\n",
    "- Convert the data into a format that is easy to manipulate, without changing the data itself\n",
    "- Ensure sensitive information is deleted or protected—eg anonymised in such a way that the original data cannot be re-engineered\n",
    "- Check size and type of data—time series, sample, geographical, ...?\n",
    "- Sample a test set and set it aside - don't ever look at it to avoid (either consciously or unconsciously) learning something about the test set that may bias your model development process and cause you to overfit to the test set, rather than minimising generalisation error\n",
    "\n",
    "### 3. Explore the Data\n",
    "\n",
    "- Create a copy of the data for exploration.  Sample it down to a more manageable size if necessary\n",
    "- Keep a record of your data exploration—in a Jupyter notebook for example\n",
    "- Study each attribute of the data and its characteristics:\n",
    "    - Name\n",
    "    - Data type\n",
    "    - % missing values\n",
    "    - Noisiness, and type of noise if applicable (random, outliers, rounding errors, etc)\n",
    "    - Usefullness of attribute for the task\n",
    "    - Distribution of attribute (normal, uniform, log normal, etc)\n",
    "- For supervised learning tasks, identify the target attribute or attributes\n",
    "- Visualise the data to get a better understanding of it, and to make these insights easier to communicate\n",
    "- Study correlations between attributes\n",
    "- Study how to solve the problem manually\n",
    "- Identify promising data tranformations that you might want to apply—scaling, normalisation, etc\n",
    "- Identify additional data the would be useful at this stage—go back to the *Get the Data* stage and go through the process of obtaining it\n",
    "- Document what you have learned for the benefit of others (including future-you!) \n",
    "\n"
   ]
  },
  {
   "cell_type": "code",
   "execution_count": null,
   "metadata": {},
   "outputs": [],
   "source": []
  }
 ],
 "metadata": {
  "kernelspec": {
   "display_name": "Python 3",
   "language": "python",
   "name": "python3"
  },
  "language_info": {
   "codemirror_mode": {
    "name": "ipython",
    "version": 3
   },
   "file_extension": ".py",
   "mimetype": "text/x-python",
   "name": "python",
   "nbconvert_exporter": "python",
   "pygments_lexer": "ipython3",
   "version": "3.7.5"
  }
 },
 "nbformat": 4,
 "nbformat_minor": 2
}
